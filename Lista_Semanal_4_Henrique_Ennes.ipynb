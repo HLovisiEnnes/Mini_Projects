{
 "cells": [
  {
   "cell_type": "markdown",
   "metadata": {},
   "source": [
    "**1)** Suponha que o semestre só possua duas disciplinas: Cálculo II e Linguagens de Programação. Crie uma função `boletim()` que recebe duas tuplas (ou listas) de três elementos representando as notas da A1, A2 e AS nesta ordem. A primeira tupla (ou lista) se refere às notas de Cálculo II e a segunda, de Lingagens de Programação. Retorne um dicionário cujas chaves são os nomes da disciplina e os valores são outro dict de chaves 'A1','A2' e 'AS' e valores sendo as notas correspondentes. Veja exemplo abaixo.\n",
    "\n",
    ">```python\n",
    ">>>> boletim((4,8,7),(9,8,0))\n",
    ">{'Cálculo II': {'A1': 4, 'A2': 8, 'AS': 7}, 'Linguagens de Programação': {'A1': 9, 'A2': 8, 'AS': 0}}\n",
    "```"
   ]
  },
  {
   "cell_type": "code",
   "execution_count": 1,
   "metadata": {},
   "outputs": [
    {
     "name": "stdout",
     "output_type": "stream",
     "text": [
      "{'Cálculo II': {'A1': 4, 'A2': 8, 'AS': 7}, 'Linguagens de Programação': {'A1': 9, 'A2': 8, 'AS': 0}}\n",
      "{'A1': 4, 'A2': 8, 'AS': 7}\n",
      "{'A1': 9, 'A2': 8, 'AS': 0}\n"
     ]
    }
   ],
   "source": [
    "def boletim(calc, prog):\n",
    "    if len(calc) != 3 or len(prog) != 3: #permite apenas conjuntos com 3 notas\n",
    "        print(\"Conjuntos de 3 notas são esperados como inputs!\")\n",
    "        return\n",
    "    \n",
    "    return {\"Cálculo II\": {\"A1\": calc[0],\"A2\": calc[1],\"AS\": calc[2]}, \n",
    "            \"Linguagens de Programação\": {\"A1\": prog[0],\"A2\": prog[1],\"AS\": prog[2]}}\n",
    "\n",
    "print(boletim((4,8,7),(9,8,0)), boletim((4,8,7),(9,8,0))[\"Cálculo II\"], boletim((4,8,7),(9,8,0))[\"Linguagens de Programação\"], sep =\"\\n\")"
   ]
  },
  {
   "cell_type": "markdown",
   "metadata": {},
   "source": [
    "**2)** Programe a função `ordena()`, que recebe como único argumento um dicionário **d**, para que ordene esse dicionário com base em seus valores e retorne o dicionário ordenado. Os casos de teste não terão valores iguais. Vide exemplos:\n",
    "\n",
    ">```python\n",
    ">>>> ordena({1: 2, 3: 4, 4: 3, 2: 1, 0: 0})\n",
    ">{0: 0, 2: 1, 1: 2, 4: 3, 3: 4}\n",
    ">\n",
    ">>>> ordena({\"peixe\":1, \"ave\":10, \"bovino\":5, \"suino\":8})\n",
    ">{\"peixe\":1, \"bovino\":5, \"suino\":8, \"ave\":10}\n",
    "```"
   ]
  },
  {
   "cell_type": "code",
   "execution_count": 2,
   "metadata": {},
   "outputs": [
    {
     "name": "stdout",
     "output_type": "stream",
     "text": [
      "{0: 0, 2: 1, 1: 2, 4: 3, 3: 4}\n",
      "{'peixe': 1, 'bovino': 5, 'suino': 8, 'ave': 10}\n"
     ]
    }
   ],
   "source": [
    "def ordena(dic):\n",
    "    values =  [] #cria uma lista de todos os valores do dicionário\n",
    "    for key in dic:\n",
    "        values.append(dic[key])\n",
    "    \n",
    "    values.sort() #põe a lista de valores em ordem\n",
    "    \n",
    "    dic_inverso = {dic[key]:key for key in dic} #cria um inverso do mapeamento do dicionário, assim permtindo pegar valores \n",
    "                                                #usando keys\n",
    "    \n",
    "    return {dic_inverso[value]:value for value in values}\n",
    "\n",
    "\n",
    "print(ordena({1: 2, 3: 4, 4: 3, 2: 1, 0: 0}), ordena({\"peixe\":1, \"ave\":10, \"bovino\":5, \"suino\":8}), sep = \"\\n\")"
   ]
  },
  {
   "cell_type": "markdown",
   "metadata": {},
   "source": [
    "**3)** Programe a função `concatena()` para que ela receba como argumentos uma quantidade indeterminada de dicionários. Daí,concatene-os na ordem dada, gerando um único dicionário que deve ser dado como retorno da função. Os casos de teste não terão chaves em comum. Veja os exemplos:\n",
    "\n",
    ">```python\n",
    ">>>> concatena({1:'a',2:'b'},{3:'c',4:'d'},{5:'e',6:'f'})\n",
    ">{1:'a',2:'b',3:'c',4:'d',5:'e',6:'f'}\n",
    ">\n",
    ">>>> concatena({'a':1,'b':2,'c':3},{'d':4,'e':5,'f':6})\n",
    ">{'a':1,'b':2,'c':3,'d':4,'e':5,'f':6}\n",
    "```"
   ]
  },
  {
   "cell_type": "code",
   "execution_count": 3,
   "metadata": {},
   "outputs": [
    {
     "name": "stdout",
     "output_type": "stream",
     "text": [
      "{1: 'a', 2: 'b', 3: 'c', 4: 'd', 5: 'e', 6: 'f'}\n",
      "{'a': 1, 'b': 2, 'c': 3, 'd': 4, 'e': 5, 'f': 6}\n"
     ]
    }
   ],
   "source": [
    "def concatena(*dics):\n",
    "    dic = dics[0] #cria o dicionário inicial \n",
    "    for dicionario in dics[1:]:\n",
    "        for chave in dicionario:\n",
    "            dic[chave] = dicionario[chave]\n",
    "    \n",
    "    return dic\n",
    "\n",
    "print(concatena({1:'a',2:'b'},{3:'c',4:'d'},{5:'e',6:'f'}), {'a':1,'b':2,'c':3,'d':4,'e':5,'f':6}, sep = \"\\n\")"
   ]
  },
  {
   "cell_type": "markdown",
   "metadata": {},
   "source": [
    "**4)** Crie uma classe chamada `Triangulo`, cujo contrutor receba as medidas de seus três lados (em qualquer ordem). Implemente um método chamado `tipo`, que retorne:\n",
    "- 0 se as medidas não formam um triângulo\n",
    "- 1 se o triângulo for equilátero\n",
    "- 2 se o triângulo for isósceles\n",
    "- 3 se o triângulo for escaleno\n",
    "\n",
    "Veja exemplo:\n",
    "\n",
    ">```python\n",
    ">>>> tri = Triangulo(5,5,5) #Equilátero\n",
    ">>>> tri.tipo() \n",
    ">1\n",
    "```"
   ]
  },
  {
   "cell_type": "code",
   "execution_count": 4,
   "metadata": {},
   "outputs": [
    {
     "name": "stdout",
     "output_type": "stream",
     "text": [
      "0, 1, 2, 3\n"
     ]
    }
   ],
   "source": [
    "def Triangulo(*lados):\n",
    "    lado_A, lado_B, lado_C = lados\n",
    "    \n",
    "    if lado_A>=lado_B+lado_C or lado_B>=lado_A+lado_C or lado_C>=lado_A+lado_B:\n",
    "        return 0\n",
    "    \n",
    "    elif len(set(lados)) == 1:\n",
    "        return 1\n",
    "    \n",
    "    elif len(set(lados)) == 2:\n",
    "        return 2\n",
    "    \n",
    "    else:\n",
    "        return 3\n",
    "    \n",
    "\n",
    "print(Triangulo(11,5,5), Triangulo(5,5,5), Triangulo(4,5,5), Triangulo(3,4,5), sep = \", \")"
   ]
  },
  {
   "cell_type": "markdown",
   "metadata": {},
   "source": [
    "**5)** A classe `Point` representa um objeto ponto no plano cartesiano. Programe-a para que ela tenha os métodos `show()`, `move()` e `dist()`. O primeiro deve retornar uma tupla com as coordenadas do ponto. A segunda deve receber como argumentos os deslocamentos em cada um dos eixos e atualizar a posição do objeto. Já a última, deve receber como argumento outro ponto e retornar a distância euclidiana entre os dois pontos. A correção da `dist()` aceitará uma margem de erro de 0.1. Não mude as linhas já existentes nessa questão e não crie ou remova funções ou classes. Com a classe devidamente implementada, deve ser possível executar a seguinte série de comandos:\n",
    "\n",
    ">```python\n",
    ">>>> p1 = Point(2, 3)\n",
    ">>>> p2 = Point(3, 3)\n",
    ">>>> p1.show()\n",
    ">(2, 3)\n",
    ">>>> p2.show()\n",
    ">(3, 3)\n",
    ">>>> p1.move(10, -10)\n",
    ">>>> p1.show()\n",
    ">(12, -7)\n",
    ">>>> p2.show()\n",
    ">(3, 3)\n",
    ">>>> p1.dist(p2)\n",
    ">13.45362404707371\n",
    "```"
   ]
  },
  {
   "cell_type": "code",
   "execution_count": 5,
   "metadata": {},
   "outputs": [],
   "source": [
    "class Point:\n",
    "    def __init__(self, *coord): #inicializa a classe com as coordenadas do plano\n",
    "        if len(coord) != 2:\n",
    "            raise Exception(\"Apenas pontos no plano podem ser objetos dessa classe!\")\n",
    "        self.coord = coord\n",
    "    \n",
    "    def show(self):\n",
    "        return self.coord #retorna as coordenadas\n",
    "    \n",
    "    def move(self, *transicao): #move o ponto para alguma nova posição\n",
    "        self.coord = tuple([self.coord[coord] + transicao[coord] for coord in range(len(self.coord))])\n",
    "        return\n",
    "    \n",
    "    def dist(self, ponto): #calcula a distancia de dois pontos\n",
    "        if type(ponto) != Point: #apenas aceita o cálculo de distâncias entre pontos já definidos\n",
    "            raise Excpetion(\"Só podemos calcular a distância entre dois objetos da classe\")\n",
    "        return ((self.coord[0]-ponto.coord[0])**2+(self.coord[1]-ponto.coord[1])**2)**0.5\n",
    "\n",
    "p1 = Point(2, 3)\n",
    "p2 = Point(3, 3)"
   ]
  },
  {
   "cell_type": "code",
   "execution_count": 6,
   "metadata": {},
   "outputs": [
    {
     "data": {
      "text/plain": [
       "(2, 3)"
      ]
     },
     "execution_count": 6,
     "metadata": {},
     "output_type": "execute_result"
    }
   ],
   "source": [
    "p1.show()"
   ]
  },
  {
   "cell_type": "code",
   "execution_count": 7,
   "metadata": {},
   "outputs": [
    {
     "data": {
      "text/plain": [
       "(3, 3)"
      ]
     },
     "execution_count": 7,
     "metadata": {},
     "output_type": "execute_result"
    }
   ],
   "source": [
    "p2.show()"
   ]
  },
  {
   "cell_type": "code",
   "execution_count": 8,
   "metadata": {},
   "outputs": [
    {
     "data": {
      "text/plain": [
       "(12, -7)"
      ]
     },
     "execution_count": 8,
     "metadata": {},
     "output_type": "execute_result"
    }
   ],
   "source": [
    "p1.move(10, -10)\n",
    "p1.show()"
   ]
  },
  {
   "cell_type": "code",
   "execution_count": 9,
   "metadata": {},
   "outputs": [
    {
     "data": {
      "text/plain": [
       "(3, 3)"
      ]
     },
     "execution_count": 9,
     "metadata": {},
     "output_type": "execute_result"
    }
   ],
   "source": [
    "p2.show()"
   ]
  },
  {
   "cell_type": "code",
   "execution_count": 10,
   "metadata": {},
   "outputs": [
    {
     "data": {
      "text/plain": [
       "13.45362404707371"
      ]
     },
     "execution_count": 10,
     "metadata": {},
     "output_type": "execute_result"
    }
   ],
   "source": [
    "p1.dist(p2)"
   ]
  },
  {
   "cell_type": "markdown",
   "metadata": {},
   "source": [
    "**6)** Você deve programar as duas classes `funcionario` e `gerente` de forma que gerente seja filha de funcionário. Os atributos de funcionario são nome, CPF, salario e departamento. Alem desses, a classe gerente deve ter também como acréscimo os atributos senha e gerenciados (que representa o número de funcionários que ele gerencia). Garanta que seus construtores estejam condizentes. Além disso, a classe funcionario deve ter o metodo `bonificar()`, que não recebe parâmetros e aumenta em 10% o salário do funcionário. A classe gerente deve ter os métodos `autenticarSenha(senha)`, que retorna um booleano resultante da validação do atributo senha com a entrada, e o método `bonificar()`, que aumenta em 15% seu salário. Não mude as linhas já existentes nessa questão e não crie ou remova funções ou classes.\n",
    "\n",
    "```python\n",
    ">>> f1=funcionario(\"João\",01234567890,2500,\"TI\")\n",
    ">>> f2=funcionario(\"Paulo\",12345678901,1800,\"TI\")\n",
    ">>> f3=gerente(\"Marta\",23456789012,6000,\"TI\",101101,2)\n",
    ">>> f1.nome()\n",
    "João\n",
    ">>> f2.CPF()\n",
    "12345678901\n",
    ">>> f3.separtamento()\n",
    "TI\n",
    ">>> f2.bonificar()\n",
    ">>> f2.salario()\n",
    "1980.00 #Consideraremos uma margem de erro\n",
    ">>> f3.bonificar()\n",
    "6900.00\n",
    ">>> f3.autenticarSenha(101101)\n",
    "True\n",
    ">>> f3.autenticarSenha(123456)\n",
    "False\n",
    "```\n",
    "\n"
   ]
  },
  {
   "cell_type": "code",
   "execution_count": 11,
   "metadata": {},
   "outputs": [],
   "source": [
    "class funcionario:\n",
    "    def __init__(self, nome, CPF, salario, departamento):\n",
    "        self.nome_att = nome #cria o atributo de nome\n",
    "        self.CPF_att = CPF #cria o atributo de CPF\n",
    "        self.salario_att = salario #cria o atributo de salario\n",
    "        self.departamento_att = departamento #cria o atributo de departamento\n",
    "\n",
    "    def nome(self): #cria um método para printar o atributo de nome\n",
    "        print(self.nome_att)\n",
    "        return \n",
    "    \n",
    "    def CPF(self): #cria um método para printar o atributo de CPF\n",
    "        print(self.CPF_att)\n",
    "        return \n",
    "    \n",
    "    def salario(self): #cria um método para printar o atributo de salario, com duas casas decimais\n",
    "        print(f\"{self.salario_att:.2f}\")\n",
    "        return\n",
    "    \n",
    "    def separtamento(self): #cria um método para printar o atributo de departamento (ro de digitação do próprio exemplo)\n",
    "        print(self.departamento_att)\n",
    "        return \n",
    "    \n",
    "    def bonificar(self): #aumenta o salário (em 10%), mas não retorna nada, de acordo com enunciado\n",
    "        self.salario_att = round(self.salario_att*1.1, 2) #aumenta o salário em 10% e arredonda duas casas decimais\n",
    "        return\n",
    "    \n",
    "    \n",
    "class gerente(funcionario):\n",
    "    def __init__(self, nome, CPF, salario, departamento, senha, gerenciados):\n",
    "        funcionario.__init__(self, nome, CPF, salario, departamento) #dá os mesmos atributos de funcionário para gerente\n",
    "        self.senha_att = senha #cria o atributo exclusivo de gerente chamado senha\n",
    "        self.gerenciados_att = gerenciados #cria o atributo exclusivo de gerente chamado gerenciados\n",
    "    \n",
    "    def autenticarSenha(self, proposta): #cira método que verifica se senha está correta\n",
    "        if proposta == self.senha_att:\n",
    "            return True\n",
    "        else:\n",
    "            return False\n",
    "        \n",
    "    def bonificar(self): #aumenta o salário de gerente (em 15%)\n",
    "                            # , mas dessa vez retorna novo valor, de acordo com o mostrado no enunciado\n",
    "        self.salario_att = round(self.salario_att*1.15, 2)\n",
    "        return self.salario()"
   ]
  },
  {
   "cell_type": "code",
   "execution_count": 12,
   "metadata": {},
   "outputs": [
    {
     "name": "stdout",
     "output_type": "stream",
     "text": [
      "João\n"
     ]
    }
   ],
   "source": [
    "f1=funcionario(\"João\",\"01234567890\",2500,\"TI\") #não consegui fazer com que python aceitasse um inteiro começando com 0\n",
    "#isso gerava um SyntaxError, que termina a execução antes mesmo de começar a execução, logo um try não funcionaria\n",
    "#para isso, tive que fazer uma string\n",
    "#Note que para floats, não existe esse problema, isso é\n",
    "# 00005.6 ->5.6\n",
    "#ou para 0\n",
    "#00000 ->0\n",
    "#mas não para inteiros\n",
    "f2=funcionario(\"Paulo\",12345678901,1800,\"TI\")\n",
    "f3=gerente(\"Marta\",23456789012,6000,\"TI\",101101,2)\n",
    "f1.nome()"
   ]
  },
  {
   "cell_type": "code",
   "execution_count": 13,
   "metadata": {},
   "outputs": [
    {
     "name": "stdout",
     "output_type": "stream",
     "text": [
      "12345678901\n"
     ]
    }
   ],
   "source": [
    "f2.CPF()"
   ]
  },
  {
   "cell_type": "code",
   "execution_count": 14,
   "metadata": {},
   "outputs": [
    {
     "name": "stdout",
     "output_type": "stream",
     "text": [
      "TI\n"
     ]
    }
   ],
   "source": [
    "f3.separtamento()"
   ]
  },
  {
   "cell_type": "code",
   "execution_count": 15,
   "metadata": {},
   "outputs": [
    {
     "name": "stdout",
     "output_type": "stream",
     "text": [
      "1980.00\n"
     ]
    }
   ],
   "source": [
    "f2.bonificar()\n",
    "f2.salario()"
   ]
  },
  {
   "cell_type": "code",
   "execution_count": 16,
   "metadata": {},
   "outputs": [
    {
     "name": "stdout",
     "output_type": "stream",
     "text": [
      "6900.00\n"
     ]
    }
   ],
   "source": [
    "f3.bonificar()"
   ]
  },
  {
   "cell_type": "code",
   "execution_count": 17,
   "metadata": {},
   "outputs": [
    {
     "data": {
      "text/plain": [
       "True"
      ]
     },
     "execution_count": 17,
     "metadata": {},
     "output_type": "execute_result"
    }
   ],
   "source": [
    "f3.autenticarSenha(101101)"
   ]
  },
  {
   "cell_type": "code",
   "execution_count": 18,
   "metadata": {},
   "outputs": [
    {
     "data": {
      "text/plain": [
       "False"
      ]
     },
     "execution_count": 18,
     "metadata": {},
     "output_type": "execute_result"
    }
   ],
   "source": [
    "f3.autenticarSenha(123456)"
   ]
  },
  {
   "cell_type": "markdown",
   "metadata": {},
   "source": [
    "## Desafio\n",
    "\n",
    "**7)** Há um arquivo chamado \"alice.txt\", na qual se encontra o primeiro capítulo do livro Alice no País das Maravilhas em sua versão em inglês. O texto já foi devidamente limpo, removendo pontuações, caracteres especiais e espaçamentos desnecessários, ou seja, o trabalho sujo já foi feito ;)\n",
    "\n",
    "Há uma função semipronta que lê o arquivo e carrega o texto para a variável do tipo string chamada \"alice\"; Sua missão é fazer com que essa função retorne um dicionário cujas chaves são as palavras únicas do texto, e os valores são a quantidade de vezes que cada palavras se repete no capítulo.\n",
    "\n",
    "Extra: Tente descobrir as top 10 palavras mais usadas. Veja a imagem abaixo para ter uma ideia da resposta (Quanto maior a palavra mais vezes ela se repete).\n",
    "\n",
    "![](https://lh3.googleusercontent.com/qFLNTi7E9xPMmLz_-SQxpaNkkAfHCI_RlLGDUtx1OBAgnRZr3eSBs4eobXx9GAOh5V_GWw=s170)\n",
    "\n",
    "Livro: http://www.gutenberg.org/files/11/11-0.txt\n",
    "\n",
    "Geração da Imagem: https://pypi.org/project/wordcloud/"
   ]
  },
  {
   "cell_type": "code",
   "execution_count": 19,
   "metadata": {},
   "outputs": [
    {
     "name": "stdout",
     "output_type": "stream",
     "text": [
      "Palavra: the \tOcorrência: 92\n",
      "Palavra: she \tOcorrência: 80\n",
      "Palavra: to \tOcorrência: 75\n",
      "Palavra: it \tOcorrência: 67\n",
      "Palavra: and \tOcorrência: 65\n",
      "Palavra: was \tOcorrência: 53\n",
      "Palavra: a \tOcorrência: 52\n",
      "Palavra: of \tOcorrência: 43\n",
      "Palavra: i \tOcorrência: 35\n",
      "Palavra: alice \tOcorrência: 28\n"
     ]
    }
   ],
   "source": [
    "def contador(principal, lista): #essa função funciona como um contador de palavras, aumentando o número da contagem se a palavra\n",
    "                                #principal está na lista\n",
    "    valor = 0\n",
    "    for palavra in lista:\n",
    "        if palavra == principal: #aumenta se palavra principal está na lista\n",
    "            valor += 1\n",
    "    return valor\n",
    "\n",
    "def ler_texto():\n",
    "    file =  open('alice.txt','r')\n",
    "    alice = file.read()\n",
    "    file.close()\n",
    "    texto_em_lista = alice.split() #trasnforma texto em lista de palavras\n",
    "    texto_em_set = set(texto_em_lista) #transforma texto em conjunto para evitar repetições\n",
    "    return {palavra:contador(palavra, texto_em_lista) for palavra in texto_em_set} #retorna um dicionario em que key é a palavra\n",
    "                                        #e valor seu número de repetições no texto\n",
    "\n",
    "dicionario = ler_texto()\n",
    "\n",
    "valores = set(dicionario.values()) #transforma valores em conjunto para impedir valores repetidos\n",
    "\n",
    "valores = list(valores) #transforma valores em lista para permitir ordenação\n",
    "\n",
    "valores.sort() #coloca valores em ordem crescente\n",
    "\n",
    "valores.reverse() #e muda para ordem decrescente\n",
    "\n",
    "valores_mais_comuns = valores[:10] #os valores mais usados\n",
    "\n",
    "tuplas = [] #cria uma lista de conjunto de tuplas com as palavras mais comuns, sendo o primeiro elemento o resultado da contagem\n",
    "            #e o segundo elemento a palavra em si\n",
    "for key in dicionario:\n",
    "    if dicionario[key] in valores_mais_comuns:\n",
    "            tuplas.append((dicionario[key], key))\n",
    "\n",
    "tuplas.sort() #ordena essas tuplas\n",
    "tuplas.reverse() #coloca palavtas em ordem decrescente\n",
    "\n",
    "for elemento in tuplas:\n",
    "    print(\"Palavra:\", elemento[1], \"\\tOcorrência:\", elemento[0])"
   ]
  },
  {
   "cell_type": "code",
   "execution_count": 20,
   "metadata": {},
   "outputs": [
    {
     "data": {
      "text/plain": [
       "[('the', 92),\n",
       " ('she', 80),\n",
       " ('to', 75),\n",
       " ('it', 67),\n",
       " ('and', 65),\n",
       " ('was', 53),\n",
       " ('a', 52),\n",
       " ('of', 43),\n",
       " ('i', 35),\n",
       " ('alice', 28)]"
      ]
     },
     "execution_count": 20,
     "metadata": {},
     "output_type": "execute_result"
    }
   ],
   "source": [
    "#para testar, vou usar o método que já estou acostumado\n",
    "from collections import Counter \n",
    "vocabulario = Counter() \n",
    "\n",
    "def ler_texto_2():\n",
    "    file =  open('alice.txt','r')\n",
    "    alice = file.read()\n",
    "    file.close()\n",
    "    texto_em_lista = alice.split()\n",
    "    vocabulario.update(texto_em_lista)\n",
    "    return vocabulario.most_common()[0:10]\n",
    "ler_texto_2()"
   ]
  }
 ],
 "metadata": {
  "kernelspec": {
   "display_name": "Python 3",
   "language": "python",
   "name": "python3"
  },
  "language_info": {
   "codemirror_mode": {
    "name": "ipython",
    "version": 3
   },
   "file_extension": ".py",
   "mimetype": "text/x-python",
   "name": "python",
   "nbconvert_exporter": "python",
   "pygments_lexer": "ipython3",
   "version": "3.7.6"
  }
 },
 "nbformat": 4,
 "nbformat_minor": 4
}

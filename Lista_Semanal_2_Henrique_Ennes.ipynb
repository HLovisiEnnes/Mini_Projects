{
 "cells": [
  {
   "cell_type": "markdown",
   "metadata": {},
   "source": [
    "1) Crie uma função chamada **\"quadrado\\_par\"** que receba como entrada um valor inteiro **N**, e retorne uma lista contendo, em ordem crescente, o quadrado de cada um dos valores pares, de 1 até N, incluindo N se for o caso."
   ]
  },
  {
   "cell_type": "code",
   "execution_count": 1,
   "metadata": {},
   "outputs": [
    {
     "data": {
      "text/plain": [
       "[4, 16, 36, 64, 100, 144, 196]"
      ]
     },
     "execution_count": 1,
     "metadata": {},
     "output_type": "execute_result"
    }
   ],
   "source": [
    "def quadrado_par(N):\n",
    "    if N <= 0: #chama um erro se o número dado for menor que 1\n",
    "        raise Exception(\"Input precisa ser maio que 1!\")\n",
    "    \n",
    "    lista = [] #cria a lista a ser retornada\n",
    "    i = 1 #itera os números menores que N\n",
    "    while i <= N:\n",
    "        if i%2 == 0:\n",
    "            lista.append(i**2) \n",
    "        i += 1\n",
    "    \n",
    "    return lista\n",
    "\n",
    "quadrado_par(15)"
   ]
  },
  {
   "cell_type": "markdown",
   "metadata": {},
   "source": [
    "2) Fazendo uso de um loop while e da função input, leia uma quantidade indefinida de **números inteiros** até que o número lido seja **-1**. Após esse processo, imprima duas listas na tela: A primeira contendo os elementos pares digitados, e a segunda contendo os elementos ímpares. Ambas devem estar em ordem crescente."
   ]
  },
  {
   "cell_type": "code",
   "execution_count": 2,
   "metadata": {},
   "outputs": [
    {
     "name": "stdout",
     "output_type": "stream",
     "text": [
      "Digite um número. -1 termina o programa1\n",
      "O número digitado é: 1\n",
      "Digite um número. -1 termina o programa2\n",
      "O número digitado é: 2\n",
      "Digite um número. -1 termina o programa-3\n",
      "O número digitado é: -3\n",
      "Digite um número. -1 termina o programa-4\n",
      "O número digitado é: -4\n",
      "Digite um número. -1 termina o programa5\n",
      "O número digitado é: 5\n",
      "Digite um número. -1 termina o programa7\n",
      "O número digitado é: 7\n",
      "Digite um número. -1 termina o programa6\n",
      "O número digitado é: 6\n",
      "Digite um número. -1 termina o programa-8\n",
      "O número digitado é: -8\n",
      "Digite um número. -1 termina o programa-9\n",
      "O número digitado é: -9\n",
      "Digite um número. -1 termina o programa0\n",
      "O número digitado é: 0\n",
      "Digite um número. -1 termina o programa-1\n",
      "O número digitado é: -1\n"
     ]
    },
    {
     "data": {
      "text/plain": [
       "([-8, -4, 0, 2, 6], [-9, -3, -1, 1, 5, 7])"
      ]
     },
     "execution_count": 2,
     "metadata": {},
     "output_type": "execute_result"
    }
   ],
   "source": [
    "def imprimir_listas_pre():\n",
    "    '''\n",
    "    Pré-função com o objetivo de imprimir os números apenas e retorná-los como inteiros \n",
    "    '''\n",
    "    numero = input(\"Digite um número. -1 termina o programa\")\n",
    "    print(\"O número digitado é:\", numero)\n",
    "    return int(numero)\n",
    "\n",
    "def imprimir_listas():\n",
    "    lista = [] #cria a lista de números digitados\n",
    "    \n",
    "    numero = imprimir_listas_pre() #chama a pré-função pela primeira vez\n",
    "    \n",
    "    while numero != -1:\n",
    "        lista.append(numero) #adiciona o número a lista de números digitados\n",
    "        numero = imprimir_listas_pre() #e atualiza o número de acordo com novos inputs\n",
    "    lista.append(-1) #adiciona -1 a lista já que, caso contrário, não estaria\n",
    "    \n",
    "    lista_par = [] #cria a lista de pares a ser retornada\n",
    "    lista_impar = [] #cria a lista de ímpares a ser retornada\n",
    "    \n",
    "    for elemento in lista:\n",
    "        if elemento % 2 == 0: #adiciona pares a lista de pares\n",
    "            lista_par.append(elemento)\n",
    "        else: #e ímpares a lista de ímpares\n",
    "            lista_impar.append(elemento)\n",
    "            \n",
    "    lista_par.sort() #coloca ambas as listas a ser retornadas em ordem crescente\n",
    "    lista_impar.sort()\n",
    "    \n",
    "    return (lista_par, lista_impar)\n",
    "\n",
    "imprimir_listas()"
   ]
  },
  {
   "cell_type": "markdown",
   "metadata": {},
   "source": [
    "3) Crie uma função chamada **\"conta\\_par\"** que recebe uma lista de inteiros, conta a quantidade de elementos pares existentes, e retorna essa contagem."
   ]
  },
  {
   "cell_type": "code",
   "execution_count": 3,
   "metadata": {},
   "outputs": [
    {
     "data": {
      "text/plain": [
       "3"
      ]
     },
     "execution_count": 3,
     "metadata": {},
     "output_type": "execute_result"
    }
   ],
   "source": [
    "def conta_par(lista):\n",
    "    for elemento in lista: #apenas funciona se a lista possui somente inteiros, como determinado pelo enunciado\n",
    "        if type(elemento) != int:\n",
    "            raise Exception(\"Input precisa ser uma lista de inteiros!\")\n",
    "    \n",
    "    contador = 0 #começa o contador\n",
    "    for elemento in lista:\n",
    "        if elemento % 2 == 0: #mas só atualiza o contador se o elemento for par\n",
    "            contador += 1\n",
    "    \n",
    "    return contador\n",
    "\n",
    "conta_par([1,2,3,-4,65,7, 6,])"
   ]
  },
  {
   "cell_type": "markdown",
   "metadata": {},
   "source": [
    "4) Crie uma função chamada **\"lista\\_ao\\_quadrado\"** que receba uma lista de inteiros e retorne outra lista cujos elementos são os quadrados dos elementos da primeira."
   ]
  },
  {
   "cell_type": "code",
   "execution_count": 4,
   "metadata": {},
   "outputs": [
    {
     "data": {
      "text/plain": [
       "[1, 4, 9, 16, 25]"
      ]
     },
     "execution_count": 4,
     "metadata": {},
     "output_type": "execute_result"
    }
   ],
   "source": [
    "def lista_ao_quadrado(lista):\n",
    "    for elemento in lista: #apenas funciona se a lista possui somente inteiros, como determinado pelo enunciado\n",
    "        if type(elemento) != int:\n",
    "            raise Exception(\"Input precisa ser uma lista de inteiros!\")\n",
    "    \n",
    "    return [elemento**2 for elemento in lista]\n",
    "\n",
    "lista_ao_quadrado([-1,2,3,-4,5])"
   ]
  },
  {
   "cell_type": "markdown",
   "metadata": {},
   "source": [
    "5) Crie uma função chamada **\"decrescente\"** que receba duas listas de inteiros e retorne uma lista única, que contenha todos os elementos das demais em ordem decrescente, podendo incluir elementos repetidos."
   ]
  },
  {
   "cell_type": "code",
   "execution_count": 5,
   "metadata": {},
   "outputs": [
    {
     "data": {
      "text/plain": [
       "[4, 3, 2, 2, 1, 1, -4, -5, -7]"
      ]
     },
     "execution_count": 5,
     "metadata": {},
     "output_type": "execute_result"
    }
   ],
   "source": [
    "def decrescente(lista_1, lista_2):\n",
    "    resultado = lista_1 + lista_2 #concatena as duas listas\n",
    "    \n",
    "    for elemento in resultado: #apenas funciona se as listas possuem somente inteiros, como determinado pelo enunciado\n",
    "        if type(elemento) != int:\n",
    "            raise Exception(\"Input precisa ser uma lista de inteiros!\")\n",
    "    \n",
    "    resultado.sort() #coloca o resultado em ordem crescente\n",
    "    \n",
    "    resultado.reverse() #inverte a ordem de resultado para torná-lo decrescente\n",
    "    \n",
    "    return resultado\n",
    "\n",
    "decrescente([1,2,3,4],[1,2,-4,-5,-7])"
   ]
  },
  {
   "cell_type": "markdown",
   "metadata": {},
   "source": [
    "6) Crie uma função chamada **\"adiciona\"** que receba uma lista **A**, e uma quantidade indeterminada de inteiros como entrada; Retorne uma nova lista contendo os elementos de **A** mais os inteiros passados como entrada, na ordem em que foram dados. Segue o exemplo:\n",
    "\n",
    ">```python\n",
    ">>>> A = [10,20,30]\n",
    ">>>> adiciona(A, 4, 10, 50, 1)\n",
    "> [10, 20, 30, 4, 10, 50, 1]\n",
    "```"
   ]
  },
  {
   "cell_type": "code",
   "execution_count": 6,
   "metadata": {},
   "outputs": [
    {
     "data": {
      "text/plain": [
       "[1, 2, 5, 4, -6, -7, -13, 14, -23, 19]"
      ]
     },
     "execution_count": 6,
     "metadata": {},
     "output_type": "execute_result"
    }
   ],
   "source": [
    "def adiciona(lista, *ints):\n",
    "    for elemento in ints: #apenas funciona se inputs são inteiros, como determinado pelo enunciado\n",
    "        if type(elemento) != int:\n",
    "            raise Exception(\"Input precisa ser de inteiros!\")\n",
    "    \n",
    "    ints = list(ints) #transforma os inputs em lista para permitir concatenizar\n",
    "    \n",
    "    return lista + ints\n",
    "\n",
    "adiciona([1,2,5,4],-6,-7,-13,14,-23,19)"
   ]
  },
  {
   "cell_type": "markdown",
   "metadata": {},
   "source": [
    "7) Crie uma função chamada **\"intercept\"** que receba duas listas de entrada e retorne uma outra lista com os valores que pertencem às duas listas simultaneamente (interseção) sem repetição de valores e em ordem crescente. Use a apenas a estrutura de listas e os comandos de loop e condicionais já vistos. Veja o exemplo:\n",
    "\n",
    ">```python\n",
    ">>>> A = [-2, 0, 1, 2, 3]\n",
    ">>>> B = [-1, 2, 3, 6, 8]\n",
    ">>>> intercept(A,B)\n",
    "> [2, 3]\n",
    "```"
   ]
  },
  {
   "cell_type": "code",
   "execution_count": 7,
   "metadata": {},
   "outputs": [
    {
     "data": {
      "text/plain": [
       "[-7, 1, 3]"
      ]
     },
     "execution_count": 7,
     "metadata": {},
     "output_type": "execute_result"
    }
   ],
   "source": [
    "def intercept(lista_1, lista_2):\n",
    "    resultado = [] #cria a lista de resultados\n",
    "    \n",
    "    for elemento in lista_1: #itera sobre os elementos da lista_1\n",
    "        if elemento in lista_2 and elemento not in resultado: #apenas adiciona a resultado se elemento também está em lista_2\n",
    "                                                              # e elemento não está em resultado, impedindo repetição\n",
    "            resultado.append(elemento)\n",
    "    \n",
    "    resultado.sort() #coloca o resultado em ordem crescente\n",
    "    \n",
    "    return resultado\n",
    "\n",
    "intercept([1,2,3,1,-7,5],[1,1,-5,3,-7])"
   ]
  },
  {
   "cell_type": "markdown",
   "metadata": {},
   "source": [
    "8) Crie uma função chamada **\"union\"** que receba duas listas de entrada e retorne uma outra lista com a união dos elementos das duas recebidas, sem repetição de elementos e em ordem crescente. Use apenas a estrutura de listas e os comandos de loop e condicionais já vistos. Veja exemplo:\n",
    "\n",
    ">```python\n",
    ">>>> A = [-2, 0, 1, 2]\n",
    ">>>> B = [-1, 1, 2, 10]\n",
    ">>>> union(A,B)\n",
    "> [-2, ,-1, 0, 1, 2, 10]\n",
    "```"
   ]
  },
  {
   "cell_type": "code",
   "execution_count": 8,
   "metadata": {},
   "outputs": [
    {
     "data": {
      "text/plain": [
       "[-7, -5, 1, 2, 3, 5]"
      ]
     },
     "execution_count": 8,
     "metadata": {},
     "output_type": "execute_result"
    }
   ],
   "source": [
    "def union(lista_1, lista_2):\n",
    "    resultado = [] #cria a lista de resultados\n",
    "    \n",
    "    for elemento in lista_1: #itera sobre os elementos da lista_1\n",
    "        if elemento not in resultado: #apenas adiciona a resultado se elemento não está em resultado, impedindo repetição                                                \n",
    "            resultado.append(elemento)\n",
    "    \n",
    "    for elemento in lista_2: #itera sobre os elementos da lista_2\n",
    "        if elemento not in resultado: #apenas adiciona a resultado se elemento não está em resultado, impedindo repetição                                                \n",
    "            resultado.append(elemento)\n",
    "            \n",
    "    resultado.sort() #coloca o resultado em ordem crescente\n",
    "    \n",
    "    return resultado\n",
    "\n",
    "union([1,2,3,1,-7,5],[1,1,-5,3,-7])"
   ]
  },
  {
   "cell_type": "markdown",
   "metadata": {},
   "source": [
    "9) Generalize a função **\"intercept\"** para que ela receba uma quantidade indefinida de listas e retorne a interceção de todas elas. Chame a nova função de **intercept2**."
   ]
  },
  {
   "cell_type": "code",
   "execution_count": 9,
   "metadata": {},
   "outputs": [
    {
     "data": {
      "text/plain": [
       "[-7, 1, 1]"
      ]
     },
     "execution_count": 9,
     "metadata": {},
     "output_type": "execute_result"
    }
   ],
   "source": [
    "def intercept2(*listas):\n",
    "    resultado = [] #cria a lista a ser retornada\n",
    "    lista_1 = listas[0] #como se, para estar na interceção, um elemento precisa estar na primeira lista, iteraremos sobre a\n",
    "                        #primeira lista\n",
    "    \n",
    "    for elemento in lista_1:\n",
    "        contador = 0 #inicia um contador para dizer em quantas outras listas está cada elemento de 1\n",
    "        for lista in listas[1:]:\n",
    "            if elemento in lista:\n",
    "                contador += 1\n",
    "        if contador == len(listas[1:]): #apenas adiciona o elemento se ele está em todas as outras listas,\n",
    "                                        # isso é, se o contador for igual o número de outras listas (número_de_listas-1)\n",
    "            resultado.append(elemento)\n",
    "            \n",
    "    resultado.sort() #coloca resultado em ordem crescente\n",
    "    \n",
    "    return resultado\n",
    "\n",
    "intercept2([1,2,3,1,-7,5],[1,1,-5,3,-7],[1,1,-7],[-7,1,13,4,1])"
   ]
  },
  {
   "cell_type": "markdown",
   "metadata": {},
   "source": [
    "## Desafio\n",
    "\n",
    "10) Iremos construir uma função chamada **\"matriz\"** que executa a operação de multiplicação de matrizes.\n",
    "    \n",
    "Seja a matriz:\n",
    "    \n",
    "$A_{m\\times n}=\n",
    "\\left[\\begin{matrix}\n",
    "a_{11}&a_{12}&...&a_{1n}\\\\\n",
    "a_{21}&a_{22}&...&a_{2n}\\\\\n",
    "\\vdots &\\vdots &&\\vdots\\\\\n",
    "a_{m1}&a_{m2}&...&a_{mn}\\\\\n",
    "\\end{matrix}\\right]$\n",
    "    \n",
    "No python, representaremos a matriz acima como uma lista de listas, onde cada lista interna representa uma linha da matriz original.\n",
    "\n",
    "$A = [[a_{11},a_{12},...,a_{1n}],[a_{21},a_{22},...,a_{2n}], . . . ,[a_{m1},a_{m2},...,a_{mn}]]$\n",
    "\n",
    "A sua função **\"matriz\"** dever receber duas matrizes $A$ e $B$ no formato especificado, e retornar $A\\times B$"
   ]
  },
  {
   "cell_type": "code",
   "execution_count": 10,
   "metadata": {},
   "outputs": [
    {
     "data": {
      "text/plain": [
       "[[1, 2, 3], [4, 5, 6], [7, 8, 9]]"
      ]
     },
     "execution_count": 10,
     "metadata": {},
     "output_type": "execute_result"
    }
   ],
   "source": [
    "def dot(vetor_1, vetor_2):\n",
    "    '''\n",
    "    Define o produto escalar entre dois vetores\n",
    "    '''\n",
    "    if len(vetor_1) != len(vetor_2): #produto só definido para vetores de mesma dimensão\n",
    "        raise Exception(\"Dimensões não são compatíveis!\")\n",
    "    \n",
    "    return sum([vetor_1[componente]*vetor_2[componente] for componente in range(len(vetor_1))])\n",
    "\n",
    "def coluna(matriz, coluna):\n",
    "    '''\n",
    "    Retorna uma coluna específica (\"coluna\") de uma matriz\n",
    "    '''\n",
    "    return [matriz[fileira][coluna] for fileira in range(len(matriz))]\n",
    "\n",
    "def matriz(A, B):\n",
    "    '''\n",
    "    Usa do fato que, para duas matrizes A e B, A*B(ij) é dado pelo produto escalar da fileira i de A com a coluna B de j\n",
    "    '''\n",
    "    if type(A) != list or type(B) != list or  type(A[0]) != list or  type(B[0]) != list:\n",
    "        #enunciado pede matrizes apenas sendo listas de matrizes\n",
    "        raise Exception(\"Inputs precisam ser matrizes compostas por listas de listas!\")\n",
    "    \n",
    "    return [[dot(A[fileira], coluna(B, col)) for col in range(len(B[0]))] for fileira in range(len(A))]\n",
    "\n",
    "matriz([[1,0,0],[0,1,0],[0,0,1]],[[1,2,3],[4,5,6],[7,8,9]])"
   ]
  }
 ],
 "metadata": {
  "kernelspec": {
   "display_name": "Python 3",
   "language": "python",
   "name": "python3"
  },
  "language_info": {
   "codemirror_mode": {
    "name": "ipython",
    "version": 3
   },
   "file_extension": ".py",
   "mimetype": "text/x-python",
   "name": "python",
   "nbconvert_exporter": "python",
   "pygments_lexer": "ipython3",
   "version": "3.7.6"
  }
 },
 "nbformat": 4,
 "nbformat_minor": 4
}

{
 "cells": [
  {
   "cell_type": "markdown",
   "metadata": {},
   "source": [
    "This notebook is an exercise of generative learning in creating Portuguese poems. Data was acquired from kaggle.com."
   ]
  },
  {
   "cell_type": "code",
   "execution_count": 84,
   "metadata": {},
   "outputs": [],
   "source": [
    "import tensorflow as tf\n",
    "\n",
    "import numpy as np\n",
    "from sklearn.model_selection import train_test_split\n",
    "import matplotlib.pyplot as plt\n",
    "import pandas as pd\n",
    "\n",
    "import unicodedata\n",
    "import re\n",
    "\n",
    "import zipfile as zf"
   ]
  },
  {
   "cell_type": "markdown",
   "metadata": {},
   "source": [
    "Let us unzip and read the dataset"
   ]
  },
  {
   "cell_type": "code",
   "execution_count": 2,
   "metadata": {},
   "outputs": [],
   "source": [
    "files = zf.ZipFile(\"PortPoetry.zip\", 'r')\n",
    "files.extractall('PortuguesePoetry')\n",
    "files.close()"
   ]
  },
  {
   "cell_type": "markdown",
   "metadata": {},
   "source": [
    "Let us just see how the file looks like"
   ]
  },
  {
   "cell_type": "code",
   "execution_count": 3,
   "metadata": {},
   "outputs": [
    {
     "name": "stdout",
     "output_type": "stream",
     "text": [
      "Author,Title,Content,Views\n",
      "\n",
      "CecÃ­lia Meireles,Retrato,\"Eu nÃ£o tinha este rosto de hoje,\n",
      "\n",
      "Assim calmo, assim triste, assim magro,\n",
      "\n",
      "Nem estes olhos tÃ£o vazios,\n",
      "\n",
      "Nem o lÃ¡bio amargo.\n",
      "\n",
      "\n",
      "\n",
      "Eu nÃ£o tinha estas mÃ£os sem forÃ§a,\n",
      "\n",
      "TÃ£o paradas e frias e mortas;\n",
      "\n",
      "Eu nÃ£o tinha este coraÃ§Ã£o\n",
      "\n",
      "Que nem se mostra.\n",
      "\n",
      "\n",
      "\n",
      "Eu nÃ£o dei por esta mudanÃ§a,\n",
      "\n",
      "TÃ£o simples, tÃ£o certa, tÃ£o fÃ¡cil:\n",
      "\n",
      "- Em que espelho ficou perdida\n",
      "\n",
      "A minha face?\",1018431\n",
      "\n",
      "Fernando Pessoa,\"Para ser grande, sÃª inteiro: nada\",\"Para ser grande, sÃª inteiro: nada\n",
      "\n",
      "Teu exagera ou exclui.\n",
      "\n",
      "SÃª todo em cada coisa. PÃµe quanto Ã©s\n",
      "\n",
      "No mÃ­nimo que fazes.\n",
      "\n",
      "Assim em cada lago a lua toda\n",
      "\n",
      "Brilha, porque alta vive.\",1979413\n",
      "\n",
      "Marina Colasanti,\"Eu sei, mas nÃ£o devia\",\"Eu sei que a gente se acostuma. Mas nÃ£o devia.\n",
      "\n",
      "A gente se acostuma a morar em apartamento de fundos \n",
      "\n",
      "e a nÃ£o ter outra vista que nÃ£o seja as janelas ao redor. \n",
      "\n",
      "\n",
      "\n",
      "E porque nÃ£o tem vista, logo se acostuma a nÃ£o olhar para fora.\n",
      "\n",
      "E porque nÃ£o olha para fora logo se acostuma a nÃ£o abrir de todo as cortinas.\n",
      "\n",
      "E porque nÃ£o abre as cortinas logo se acostuma acender mais cedo a luz.\n",
      "\n",
      "E a medida que se acostuma, esquece o sol, esquece o ar, esquece a amplidÃ£o.\n",
      "\n",
      "\n",
      "\n",
      "A gente se acostuma a acordar de manhÃ£ sobressaltado porque estÃ¡ na hora.\n",
      "\n",
      "A tomar cafÃ© correndo porque estÃ¡ atrasado.\n",
      "\n",
      "A ler jornal no Ã´nibus porque nÃ£o pode perder tempo da viagem.\n",
      "\n",
      "A comer sanduÃ­che porque nÃ£o dÃ¡ pra almoÃ§ar.\n",
      "\n",
      "A sair do trabalho porque jÃ¡ Ã© noite.\n",
      "\n",
      "A cochilar no Ã´nibus porque estÃ¡ cansado.\n",
      "\n",
      "A deitar cedo e dormir pesado sem ter vivido o dia.\n",
      "\n",
      "\n",
      "\n",
      "A gente se acostuma a abrir o jornal e a ler sobre a guerra.\n",
      "\n",
      "E aceitando a guerra, aceita os mortos e que haja nÃºmero para os mortos.\n",
      "\n",
      "E aceitando os nÃºmeros aceita nÃ£o acreditar nas negociaÃ§Ãµes de paz,\n",
      "\n",
      "aceita ler todo dia da guerra, dos nÃºmeros, da longa duraÃ§Ã£o.\n",
      "\n",
      "\n",
      "\n",
      "A gente se acostuma a esperar o dia inteiro e ouvir no telefone: hoje nÃ£o posso ir.\n",
      "\n",
      "A sorrir para as pessoas sem receber um sorriso de volta.\n",
      "\n",
      "A ser ignorado quando precisava tanto ser visto.\n",
      "\n",
      "A gente se acostuma a pagar por tudo o que deseja e o de que necessita.\n",
      "\n",
      "A lutar para ganhar o dinheiro com que pagar.\n",
      "\n",
      "\n",
      "\n",
      "E a ganhar menos do que precisa.\n",
      "\n",
      "E a fazer filas para pagar.\n",
      "\n",
      "E a pagar mais do que as coisas valem.\n",
      "\n",
      "E a saber que cada vez pagarÃ¡ mais.\n",
      "\n",
      "E a procurar mais trabalho, para ganhar mais dinheiro, para ter com que pagar nas filas que se cobra.\n",
      "\n",
      "\n",
      "\n",
      "A gente se acostuma a andar na rua e a ver cartazes.\n",
      "\n",
      "A abrir as revistas e a ver anÃºncios.\n",
      "\n",
      "A ligar a televisÃ£o e a ver comerciais.\n",
      "\n",
      "A ir ao cinema e engolir publicidade.\n",
      "\n",
      "A ser instigado, conduzido, desnorteado, lanÃ§ado na infindÃ¡vel catarata dos produtos.\n",
      "\n",
      "A gente se acostuma Ã  poluiÃ§Ã£o.\n",
      "\n",
      "\n",
      "\n",
      "As salas fechadas de ar condicionado e cheiro de cigarro.\n",
      "\n",
      "A luz artificial de ligeiro tremor.\n",
      "\n",
      "Ao choque que os olhos levam na luz natural.\n",
      "\n",
      "Ã€s bactÃ©rias da Ã¡gua potÃ¡vel.\n",
      "\n",
      "A contaminaÃ§Ã£o da Ã¡gua do mar.\n",
      "\n",
      "A lenta morte dos rios.\n",
      "\n",
      "\n",
      "\n",
      "Se acostuma a nÃ£o ouvir o passarinho, a nÃ£o ter galo de madrugada, a temer a hidrofobia dos cÃ£es,\n",
      "\n",
      "a nÃ£o colher fruta no pÃ©, a nÃ£o ter sequer uma planta.\n",
      "\n",
      "A gente se acostuma a coisas demais para nÃ£o sofrer.\n",
      "\n",
      "\n",
      "\n",
      "Em doses pequenas, tentando nÃ£o perceber, vai se afastando uma dor aqui,\n",
      "\n",
      "um ressentimento ali, uma revolta acolÃ¡.\n",
      "\n",
      "Se o cinema estÃ¡ cheio a gente senta na primeira fila e torce um pouco o pescoÃ§o.\n",
      "\n",
      "Se a praia estÃ¡ contaminada a gente sÃ³ molha os pÃ©s e sua no resto do corpo.\n",
      "\n",
      "\n",
      "\n",
      "Se o trabalho estÃ¡ duro, a gente se consola pensando no fim de semana.\n",
      "\n",
      "E se no fim de semana nÃ£o hÃ¡ muito o que fazer a gente vai dormir cedo\n",
      "\n",
      "e ainda fica satisfeito porque tem sempre sono atrasado.\n",
      "\n",
      "\n",
      "\n",
      "A gente se acostuma para nÃ£o se ralar na aspereza, para preservar a pele.\n",
      "\n",
      "Se acostuma para evitar feridas, sangramentos, para esquivar-se\n",
      "\n",
      "da faca e da baioneta, para poupar o peito.\n",
      "\n",
      "A gente se acostuma para poupar a vida que aos poucos se gasta e, que gasta,\n",
      "\n",
      "de tanto acostumar, se perde de si mesma.\n",
      "\n",
      "\",301509\n",
      "\n",
      "Carlos Drummond de Andrade,Quadrilha,\"JoÃ£o amava Teresa que amava Raimundo\n",
      "\n",
      "que amava Maria que amava Joaquim que amava Lili\n",
      "\n",
      "que nÃ£o amava ninguÃ©m.\n",
      "\n",
      "JoÃ£o foi para os Estados Unidos, Teresa para o convento,\n",
      "\n",
      "Raimundo morreu de desastre, Maria ficou pra tia,\n",
      "\n",
      "Joaquim suicidou-se e Lili casou com J. Pinto Fernandes\n",
      "\n",
      "que nÃ£o tinha entrado na histÃ³ria.\",1421206\n",
      "\n",
      "EugÃ©nio de Andrade,Ã‰ urgente o amor,\"Ã‰ urgente o amor.\n",
      "\n",
      "Ã‰ urgente um barco no mar.\n",
      "\n",
      "\n",
      "\n",
      "Ã‰ urgente destruir certas palavras,\n",
      "\n",
      "Ã³dio, solidÃ£o e crueldade,\n",
      "\n"
     ]
    }
   ],
   "source": [
    "file = open(\"PortuguesePoetry/portuguese-poems.csv\", \"r\")\n",
    "for line in range(100):\n",
    "    print(file.readline())"
   ]
  },
  {
   "cell_type": "markdown",
   "metadata": {},
   "source": [
    "Opening the file as .txt takes out the connection between author and text. So, let us open as a dataset"
   ]
  },
  {
   "cell_type": "code",
   "execution_count": 4,
   "metadata": {},
   "outputs": [
    {
     "data": {
      "text/html": [
       "<div>\n",
       "<style scoped>\n",
       "    .dataframe tbody tr th:only-of-type {\n",
       "        vertical-align: middle;\n",
       "    }\n",
       "\n",
       "    .dataframe tbody tr th {\n",
       "        vertical-align: top;\n",
       "    }\n",
       "\n",
       "    .dataframe thead th {\n",
       "        text-align: right;\n",
       "    }\n",
       "</style>\n",
       "<table border=\"1\" class=\"dataframe\">\n",
       "  <thead>\n",
       "    <tr style=\"text-align: right;\">\n",
       "      <th></th>\n",
       "      <th>Author</th>\n",
       "      <th>Title</th>\n",
       "      <th>Content</th>\n",
       "      <th>Views</th>\n",
       "    </tr>\n",
       "  </thead>\n",
       "  <tbody>\n",
       "    <tr>\n",
       "      <th>0</th>\n",
       "      <td>Cecília Meireles</td>\n",
       "      <td>Retrato</td>\n",
       "      <td>Eu não tinha este rosto de hoje,\\r\\nAssim calm...</td>\n",
       "      <td>1018431</td>\n",
       "    </tr>\n",
       "    <tr>\n",
       "      <th>1</th>\n",
       "      <td>Fernando Pessoa</td>\n",
       "      <td>Para ser grande, sê inteiro: nada</td>\n",
       "      <td>Para ser grande, sê inteiro: nada\\r\\nTeu exage...</td>\n",
       "      <td>1979413</td>\n",
       "    </tr>\n",
       "    <tr>\n",
       "      <th>2</th>\n",
       "      <td>Marina Colasanti</td>\n",
       "      <td>Eu sei, mas não devia</td>\n",
       "      <td>Eu sei que a gente se acostuma. Mas não devia....</td>\n",
       "      <td>301509</td>\n",
       "    </tr>\n",
       "    <tr>\n",
       "      <th>3</th>\n",
       "      <td>Carlos Drummond de Andrade</td>\n",
       "      <td>Quadrilha</td>\n",
       "      <td>João amava Teresa que amava Raimundo\\r\\nque am...</td>\n",
       "      <td>1421206</td>\n",
       "    </tr>\n",
       "    <tr>\n",
       "      <th>4</th>\n",
       "      <td>Eugénio de Andrade</td>\n",
       "      <td>É urgente o amor</td>\n",
       "      <td>É urgente o amor.\\r\\nÉ urgente um barco no mar...</td>\n",
       "      <td>621197</td>\n",
       "    </tr>\n",
       "    <tr>\n",
       "      <th>...</th>\n",
       "      <td>...</td>\n",
       "      <td>...</td>\n",
       "      <td>...</td>\n",
       "      <td>...</td>\n",
       "    </tr>\n",
       "    <tr>\n",
       "      <th>15538</th>\n",
       "      <td>Hashem Shaabani</td>\n",
       "      <td>Sete razões pelas quais eu deveria morrer</td>\n",
       "      <td>Por sete dias eles gritaram comigo:\\nVocê trav...</td>\n",
       "      <td>53</td>\n",
       "    </tr>\n",
       "    <tr>\n",
       "      <th>15539</th>\n",
       "      <td>Helmut Heissenbüttel</td>\n",
       "      <td>Manchas de tinta fogem céleres</td>\n",
       "      <td>manchas de tinta fogem céleres sobre o conceit...</td>\n",
       "      <td>169</td>\n",
       "    </tr>\n",
       "    <tr>\n",
       "      <th>15540</th>\n",
       "      <td>Leónidas Lamborghini</td>\n",
       "      <td>Falando sozinho</td>\n",
       "      <td>Como aquele que vai falandosozinhopela ruatrat...</td>\n",
       "      <td>260</td>\n",
       "    </tr>\n",
       "    <tr>\n",
       "      <th>15541</th>\n",
       "      <td>Fernando Namora</td>\n",
       "      <td>Por Todos os Caminhos do Mundo</td>\n",
       "      <td>A minha poesia é assim como uma vida que vague...</td>\n",
       "      <td>24353</td>\n",
       "    </tr>\n",
       "    <tr>\n",
       "      <th>15542</th>\n",
       "      <td>Guillermo Fernández</td>\n",
       "      <td>Discurso em homenagem a Heráclito</td>\n",
       "      <td>I\\n \\nTudo preenche o instante\\nque virá\\nque ...</td>\n",
       "      <td>68</td>\n",
       "    </tr>\n",
       "  </tbody>\n",
       "</table>\n",
       "<p>15543 rows × 4 columns</p>\n",
       "</div>"
      ],
      "text/plain": [
       "                           Author                                      Title  \\\n",
       "0                Cecília Meireles                                    Retrato   \n",
       "1                 Fernando Pessoa          Para ser grande, sê inteiro: nada   \n",
       "2                Marina Colasanti                      Eu sei, mas não devia   \n",
       "3      Carlos Drummond de Andrade                                  Quadrilha   \n",
       "4              Eugénio de Andrade                           É urgente o amor   \n",
       "...                           ...                                        ...   \n",
       "15538             Hashem Shaabani  Sete razões pelas quais eu deveria morrer   \n",
       "15539        Helmut Heissenbüttel             Manchas de tinta fogem céleres   \n",
       "15540        Leónidas Lamborghini                            Falando sozinho   \n",
       "15541             Fernando Namora             Por Todos os Caminhos do Mundo   \n",
       "15542         Guillermo Fernández          Discurso em homenagem a Heráclito   \n",
       "\n",
       "                                                 Content    Views  \n",
       "0      Eu não tinha este rosto de hoje,\\r\\nAssim calm...  1018431  \n",
       "1      Para ser grande, sê inteiro: nada\\r\\nTeu exage...  1979413  \n",
       "2      Eu sei que a gente se acostuma. Mas não devia....   301509  \n",
       "3      João amava Teresa que amava Raimundo\\r\\nque am...  1421206  \n",
       "4      É urgente o amor.\\r\\nÉ urgente um barco no mar...   621197  \n",
       "...                                                  ...      ...  \n",
       "15538  Por sete dias eles gritaram comigo:\\nVocê trav...       53  \n",
       "15539  manchas de tinta fogem céleres sobre o conceit...      169  \n",
       "15540  Como aquele que vai falandosozinhopela ruatrat...      260  \n",
       "15541  A minha poesia é assim como uma vida que vague...    24353  \n",
       "15542  I\\n \\nTudo preenche o instante\\nque virá\\nque ...       68  \n",
       "\n",
       "[15543 rows x 4 columns]"
      ]
     },
     "execution_count": 4,
     "metadata": {},
     "output_type": "execute_result"
    }
   ],
   "source": [
    "raw_data = pd.read_csv(\"PortuguesePoetry/portuguese-poems.csv\")\n",
    "raw_data"
   ]
  },
  {
   "cell_type": "markdown",
   "metadata": {},
   "source": [
    "Much better. Let us see the data closely"
   ]
  },
  {
   "cell_type": "code",
   "execution_count": 5,
   "metadata": {},
   "outputs": [
    {
     "data": {
      "text/plain": [
       "'Eu não tinha este rosto de hoje,\\r\\nAssim calmo, assim triste, assim magro,\\r\\nNem estes olhos tão vazios,\\r\\nNem o lábio amargo.\\n\\r\\nEu não tinha estas mãos sem força,\\r\\nTão paradas e frias e mortas;\\r\\nEu não tinha este coração\\r\\nQue nem se mostra.\\n\\r\\nEu não dei por esta mudança,\\r\\nTão simples, tão certa, tão fácil:\\r\\n- Em que espelho ficou perdida\\r\\nA minha face?'"
      ]
     },
     "execution_count": 5,
     "metadata": {},
     "output_type": "execute_result"
    }
   ],
   "source": [
    "poems = raw_data[\"Content\"]\n",
    "poems[0]"
   ]
  },
  {
   "cell_type": "markdown",
   "metadata": {},
   "source": [
    "Great, already unicoded!  Let us give a look at the data"
   ]
  },
  {
   "cell_type": "code",
   "execution_count": 6,
   "metadata": {},
   "outputs": [
    {
     "name": "stdout",
     "output_type": "stream",
     "text": [
      "Authors occurancy in percentage\n",
      "\n",
      " Fernando Pessoa                     14.360162\n",
      "Sophia de Mello Breyner Andresen     2.843724\n",
      "Jorge Luis Borges                    2.682880\n",
      "Florbela Espanca                     2.232516\n",
      "Angela Santos                        1.653477\n",
      "                                      ...    \n",
      "Silvia Brito                         0.006434\n",
      "Shinkichi Takahashi                  0.006434\n",
      "Cristiane Ferrari                    0.006434\n",
      "Carla M                              0.006434\n",
      "Lhasa de Sela                        0.006434\n",
      "Name: Author, Length: 2127, dtype: float64\n"
     ]
    }
   ],
   "source": [
    "authors =  raw_data[\"Author\"]\n",
    "\n",
    "print(\"Authors occurancy in percentage\\n\\n\",str((authors.value_counts()/len(authors))*100))"
   ]
  },
  {
   "cell_type": "markdown",
   "metadata": {},
   "source": [
    "I do not really care about views, so I will simply delete that column"
   ]
  },
  {
   "cell_type": "code",
   "execution_count": 7,
   "metadata": {},
   "outputs": [
    {
     "data": {
      "text/html": [
       "<div>\n",
       "<style scoped>\n",
       "    .dataframe tbody tr th:only-of-type {\n",
       "        vertical-align: middle;\n",
       "    }\n",
       "\n",
       "    .dataframe tbody tr th {\n",
       "        vertical-align: top;\n",
       "    }\n",
       "\n",
       "    .dataframe thead th {\n",
       "        text-align: right;\n",
       "    }\n",
       "</style>\n",
       "<table border=\"1\" class=\"dataframe\">\n",
       "  <thead>\n",
       "    <tr style=\"text-align: right;\">\n",
       "      <th></th>\n",
       "      <th>Author</th>\n",
       "      <th>Title</th>\n",
       "      <th>Content</th>\n",
       "    </tr>\n",
       "  </thead>\n",
       "  <tbody>\n",
       "    <tr>\n",
       "      <th>0</th>\n",
       "      <td>Cecília Meireles</td>\n",
       "      <td>Retrato</td>\n",
       "      <td>Eu não tinha este rosto de hoje,\\r\\nAssim calm...</td>\n",
       "    </tr>\n",
       "    <tr>\n",
       "      <th>1</th>\n",
       "      <td>Fernando Pessoa</td>\n",
       "      <td>Para ser grande, sê inteiro: nada</td>\n",
       "      <td>Para ser grande, sê inteiro: nada\\r\\nTeu exage...</td>\n",
       "    </tr>\n",
       "    <tr>\n",
       "      <th>2</th>\n",
       "      <td>Marina Colasanti</td>\n",
       "      <td>Eu sei, mas não devia</td>\n",
       "      <td>Eu sei que a gente se acostuma. Mas não devia....</td>\n",
       "    </tr>\n",
       "    <tr>\n",
       "      <th>3</th>\n",
       "      <td>Carlos Drummond de Andrade</td>\n",
       "      <td>Quadrilha</td>\n",
       "      <td>João amava Teresa que amava Raimundo\\r\\nque am...</td>\n",
       "    </tr>\n",
       "    <tr>\n",
       "      <th>4</th>\n",
       "      <td>Eugénio de Andrade</td>\n",
       "      <td>É urgente o amor</td>\n",
       "      <td>É urgente o amor.\\r\\nÉ urgente um barco no mar...</td>\n",
       "    </tr>\n",
       "    <tr>\n",
       "      <th>...</th>\n",
       "      <td>...</td>\n",
       "      <td>...</td>\n",
       "      <td>...</td>\n",
       "    </tr>\n",
       "    <tr>\n",
       "      <th>15538</th>\n",
       "      <td>Hashem Shaabani</td>\n",
       "      <td>Sete razões pelas quais eu deveria morrer</td>\n",
       "      <td>Por sete dias eles gritaram comigo:\\nVocê trav...</td>\n",
       "    </tr>\n",
       "    <tr>\n",
       "      <th>15539</th>\n",
       "      <td>Helmut Heissenbüttel</td>\n",
       "      <td>Manchas de tinta fogem céleres</td>\n",
       "      <td>manchas de tinta fogem céleres sobre o conceit...</td>\n",
       "    </tr>\n",
       "    <tr>\n",
       "      <th>15540</th>\n",
       "      <td>Leónidas Lamborghini</td>\n",
       "      <td>Falando sozinho</td>\n",
       "      <td>Como aquele que vai falandosozinhopela ruatrat...</td>\n",
       "    </tr>\n",
       "    <tr>\n",
       "      <th>15541</th>\n",
       "      <td>Fernando Namora</td>\n",
       "      <td>Por Todos os Caminhos do Mundo</td>\n",
       "      <td>A minha poesia é assim como uma vida que vague...</td>\n",
       "    </tr>\n",
       "    <tr>\n",
       "      <th>15542</th>\n",
       "      <td>Guillermo Fernández</td>\n",
       "      <td>Discurso em homenagem a Heráclito</td>\n",
       "      <td>I\\n \\nTudo preenche o instante\\nque virá\\nque ...</td>\n",
       "    </tr>\n",
       "  </tbody>\n",
       "</table>\n",
       "<p>15543 rows × 3 columns</p>\n",
       "</div>"
      ],
      "text/plain": [
       "                           Author                                      Title  \\\n",
       "0                Cecília Meireles                                    Retrato   \n",
       "1                 Fernando Pessoa          Para ser grande, sê inteiro: nada   \n",
       "2                Marina Colasanti                      Eu sei, mas não devia   \n",
       "3      Carlos Drummond de Andrade                                  Quadrilha   \n",
       "4              Eugénio de Andrade                           É urgente o amor   \n",
       "...                           ...                                        ...   \n",
       "15538             Hashem Shaabani  Sete razões pelas quais eu deveria morrer   \n",
       "15539        Helmut Heissenbüttel             Manchas de tinta fogem céleres   \n",
       "15540        Leónidas Lamborghini                            Falando sozinho   \n",
       "15541             Fernando Namora             Por Todos os Caminhos do Mundo   \n",
       "15542         Guillermo Fernández          Discurso em homenagem a Heráclito   \n",
       "\n",
       "                                                 Content  \n",
       "0      Eu não tinha este rosto de hoje,\\r\\nAssim calm...  \n",
       "1      Para ser grande, sê inteiro: nada\\r\\nTeu exage...  \n",
       "2      Eu sei que a gente se acostuma. Mas não devia....  \n",
       "3      João amava Teresa que amava Raimundo\\r\\nque am...  \n",
       "4      É urgente o amor.\\r\\nÉ urgente um barco no mar...  \n",
       "...                                                  ...  \n",
       "15538  Por sete dias eles gritaram comigo:\\nVocê trav...  \n",
       "15539  manchas de tinta fogem céleres sobre o conceit...  \n",
       "15540  Como aquele que vai falandosozinhopela ruatrat...  \n",
       "15541  A minha poesia é assim como uma vida que vague...  \n",
       "15542  I\\n \\nTudo preenche o instante\\nque virá\\nque ...  \n",
       "\n",
       "[15543 rows x 3 columns]"
      ]
     },
     "execution_count": 7,
     "metadata": {},
     "output_type": "execute_result"
    }
   ],
   "source": [
    "data = raw_data.drop(\"Views\", axis=1)\n",
    "data"
   ]
  },
  {
   "cell_type": "markdown",
   "metadata": {},
   "source": [
    "I will add the title to the poem directly"
   ]
  },
  {
   "cell_type": "code",
   "execution_count": 8,
   "metadata": {},
   "outputs": [
    {
     "data": {
      "text/html": [
       "<div>\n",
       "<style scoped>\n",
       "    .dataframe tbody tr th:only-of-type {\n",
       "        vertical-align: middle;\n",
       "    }\n",
       "\n",
       "    .dataframe tbody tr th {\n",
       "        vertical-align: top;\n",
       "    }\n",
       "\n",
       "    .dataframe thead th {\n",
       "        text-align: right;\n",
       "    }\n",
       "</style>\n",
       "<table border=\"1\" class=\"dataframe\">\n",
       "  <thead>\n",
       "    <tr style=\"text-align: right;\">\n",
       "      <th></th>\n",
       "      <th>Author</th>\n",
       "      <th>Title</th>\n",
       "      <th>Content</th>\n",
       "      <th>Title+Content</th>\n",
       "    </tr>\n",
       "  </thead>\n",
       "  <tbody>\n",
       "    <tr>\n",
       "      <th>0</th>\n",
       "      <td>Cecília Meireles</td>\n",
       "      <td>Retrato</td>\n",
       "      <td>Eu não tinha este rosto de hoje,\\r\\nAssim calm...</td>\n",
       "      <td>Retrato \\r\\n\\r\\n\\r\\n Eu não tinha este rosto d...</td>\n",
       "    </tr>\n",
       "    <tr>\n",
       "      <th>1</th>\n",
       "      <td>Fernando Pessoa</td>\n",
       "      <td>Para ser grande, sê inteiro: nada</td>\n",
       "      <td>Para ser grande, sê inteiro: nada\\r\\nTeu exage...</td>\n",
       "      <td>Para ser grande, sê inteiro: nada \\r\\n\\r\\n\\r\\n...</td>\n",
       "    </tr>\n",
       "    <tr>\n",
       "      <th>2</th>\n",
       "      <td>Marina Colasanti</td>\n",
       "      <td>Eu sei, mas não devia</td>\n",
       "      <td>Eu sei que a gente se acostuma. Mas não devia....</td>\n",
       "      <td>Eu sei, mas não devia \\r\\n\\r\\n\\r\\n Eu sei que ...</td>\n",
       "    </tr>\n",
       "    <tr>\n",
       "      <th>3</th>\n",
       "      <td>Carlos Drummond de Andrade</td>\n",
       "      <td>Quadrilha</td>\n",
       "      <td>João amava Teresa que amava Raimundo\\r\\nque am...</td>\n",
       "      <td>Quadrilha \\r\\n\\r\\n\\r\\n João amava Teresa que a...</td>\n",
       "    </tr>\n",
       "    <tr>\n",
       "      <th>4</th>\n",
       "      <td>Eugénio de Andrade</td>\n",
       "      <td>É urgente o amor</td>\n",
       "      <td>É urgente o amor.\\r\\nÉ urgente um barco no mar...</td>\n",
       "      <td>É urgente o amor \\r\\n\\r\\n\\r\\n É urgente o amor...</td>\n",
       "    </tr>\n",
       "    <tr>\n",
       "      <th>...</th>\n",
       "      <td>...</td>\n",
       "      <td>...</td>\n",
       "      <td>...</td>\n",
       "      <td>...</td>\n",
       "    </tr>\n",
       "    <tr>\n",
       "      <th>15538</th>\n",
       "      <td>Hashem Shaabani</td>\n",
       "      <td>Sete razões pelas quais eu deveria morrer</td>\n",
       "      <td>Por sete dias eles gritaram comigo:\\nVocê trav...</td>\n",
       "      <td>Sete razões pelas quais eu deveria morrer \\r\\n...</td>\n",
       "    </tr>\n",
       "    <tr>\n",
       "      <th>15539</th>\n",
       "      <td>Helmut Heissenbüttel</td>\n",
       "      <td>Manchas de tinta fogem céleres</td>\n",
       "      <td>manchas de tinta fogem céleres sobre o conceit...</td>\n",
       "      <td>Manchas de tinta fogem céleres \\r\\n\\r\\n\\r\\n ma...</td>\n",
       "    </tr>\n",
       "    <tr>\n",
       "      <th>15540</th>\n",
       "      <td>Leónidas Lamborghini</td>\n",
       "      <td>Falando sozinho</td>\n",
       "      <td>Como aquele que vai falandosozinhopela ruatrat...</td>\n",
       "      <td>Falando sozinho \\r\\n\\r\\n\\r\\n Como aquele que v...</td>\n",
       "    </tr>\n",
       "    <tr>\n",
       "      <th>15541</th>\n",
       "      <td>Fernando Namora</td>\n",
       "      <td>Por Todos os Caminhos do Mundo</td>\n",
       "      <td>A minha poesia é assim como uma vida que vague...</td>\n",
       "      <td>Por Todos os Caminhos do Mundo \\r\\n\\r\\n\\r\\n A ...</td>\n",
       "    </tr>\n",
       "    <tr>\n",
       "      <th>15542</th>\n",
       "      <td>Guillermo Fernández</td>\n",
       "      <td>Discurso em homenagem a Heráclito</td>\n",
       "      <td>I\\n \\nTudo preenche o instante\\nque virá\\nque ...</td>\n",
       "      <td>Discurso em homenagem a Heráclito \\r\\n\\r\\n\\r\\n...</td>\n",
       "    </tr>\n",
       "  </tbody>\n",
       "</table>\n",
       "<p>15543 rows × 4 columns</p>\n",
       "</div>"
      ],
      "text/plain": [
       "                           Author                                      Title  \\\n",
       "0                Cecília Meireles                                    Retrato   \n",
       "1                 Fernando Pessoa          Para ser grande, sê inteiro: nada   \n",
       "2                Marina Colasanti                      Eu sei, mas não devia   \n",
       "3      Carlos Drummond de Andrade                                  Quadrilha   \n",
       "4              Eugénio de Andrade                           É urgente o amor   \n",
       "...                           ...                                        ...   \n",
       "15538             Hashem Shaabani  Sete razões pelas quais eu deveria morrer   \n",
       "15539        Helmut Heissenbüttel             Manchas de tinta fogem céleres   \n",
       "15540        Leónidas Lamborghini                            Falando sozinho   \n",
       "15541             Fernando Namora             Por Todos os Caminhos do Mundo   \n",
       "15542         Guillermo Fernández          Discurso em homenagem a Heráclito   \n",
       "\n",
       "                                                 Content  \\\n",
       "0      Eu não tinha este rosto de hoje,\\r\\nAssim calm...   \n",
       "1      Para ser grande, sê inteiro: nada\\r\\nTeu exage...   \n",
       "2      Eu sei que a gente se acostuma. Mas não devia....   \n",
       "3      João amava Teresa que amava Raimundo\\r\\nque am...   \n",
       "4      É urgente o amor.\\r\\nÉ urgente um barco no mar...   \n",
       "...                                                  ...   \n",
       "15538  Por sete dias eles gritaram comigo:\\nVocê trav...   \n",
       "15539  manchas de tinta fogem céleres sobre o conceit...   \n",
       "15540  Como aquele que vai falandosozinhopela ruatrat...   \n",
       "15541  A minha poesia é assim como uma vida que vague...   \n",
       "15542  I\\n \\nTudo preenche o instante\\nque virá\\nque ...   \n",
       "\n",
       "                                           Title+Content  \n",
       "0      Retrato \\r\\n\\r\\n\\r\\n Eu não tinha este rosto d...  \n",
       "1      Para ser grande, sê inteiro: nada \\r\\n\\r\\n\\r\\n...  \n",
       "2      Eu sei, mas não devia \\r\\n\\r\\n\\r\\n Eu sei que ...  \n",
       "3      Quadrilha \\r\\n\\r\\n\\r\\n João amava Teresa que a...  \n",
       "4      É urgente o amor \\r\\n\\r\\n\\r\\n É urgente o amor...  \n",
       "...                                                  ...  \n",
       "15538  Sete razões pelas quais eu deveria morrer \\r\\n...  \n",
       "15539  Manchas de tinta fogem céleres \\r\\n\\r\\n\\r\\n ma...  \n",
       "15540  Falando sozinho \\r\\n\\r\\n\\r\\n Como aquele que v...  \n",
       "15541  Por Todos os Caminhos do Mundo \\r\\n\\r\\n\\r\\n A ...  \n",
       "15542  Discurso em homenagem a Heráclito \\r\\n\\r\\n\\r\\n...  \n",
       "\n",
       "[15543 rows x 4 columns]"
      ]
     },
     "execution_count": 8,
     "metadata": {},
     "output_type": "execute_result"
    }
   ],
   "source": [
    "data[\"Title+Content\"] = data[\"Title\"] + \" \\r\\n\\r\\n\\r\\n \" + data[\"Content\"]\n",
    "data"
   ]
  },
  {
   "cell_type": "code",
   "execution_count": 9,
   "metadata": {},
   "outputs": [
    {
     "data": {
      "text/html": [
       "<div>\n",
       "<style scoped>\n",
       "    .dataframe tbody tr th:only-of-type {\n",
       "        vertical-align: middle;\n",
       "    }\n",
       "\n",
       "    .dataframe tbody tr th {\n",
       "        vertical-align: top;\n",
       "    }\n",
       "\n",
       "    .dataframe thead th {\n",
       "        text-align: right;\n",
       "    }\n",
       "</style>\n",
       "<table border=\"1\" class=\"dataframe\">\n",
       "  <thead>\n",
       "    <tr style=\"text-align: right;\">\n",
       "      <th></th>\n",
       "      <th>Author</th>\n",
       "      <th>Title</th>\n",
       "      <th>Content</th>\n",
       "      <th>Title+Content</th>\n",
       "    </tr>\n",
       "  </thead>\n",
       "  <tbody>\n",
       "    <tr>\n",
       "      <th>40</th>\n",
       "      <td>Luís de Camões</td>\n",
       "      <td>Mudam-se os tempos, mudam-se as vontades</td>\n",
       "      <td>Mudam-se os tempos, mudam-se as vontades,\\r\\nm...</td>\n",
       "      <td>Mudam-se os tempos, mudam-se as vontades \\r\\n\\...</td>\n",
       "    </tr>\n",
       "    <tr>\n",
       "      <th>64</th>\n",
       "      <td>Luís de Camões</td>\n",
       "      <td>Amor é fogo que arde sem se ver</td>\n",
       "      <td>Amor é fogo que arde sem se ver,\\r\\né ferida q...</td>\n",
       "      <td>Amor é fogo que arde sem se ver \\r\\n\\r\\n\\r\\n A...</td>\n",
       "    </tr>\n",
       "    <tr>\n",
       "      <th>99</th>\n",
       "      <td>Luís de Camões</td>\n",
       "      <td>Da alma e de quanto tiver</td>\n",
       "      <td>Da alma e de quanto tiver\\r\\nQuero que me desp...</td>\n",
       "      <td>Da alma e de quanto tiver \\r\\n\\r\\n\\r\\n Da alma...</td>\n",
       "    </tr>\n",
       "    <tr>\n",
       "      <th>125</th>\n",
       "      <td>Luís de Camões</td>\n",
       "      <td>Transforma-se o amador na cousa amada</td>\n",
       "      <td>Transforma-se o amador na cousa amada,\\r\\nPor ...</td>\n",
       "      <td>Transforma-se o amador na cousa amada \\r\\n\\r\\n...</td>\n",
       "    </tr>\n",
       "    <tr>\n",
       "      <th>133</th>\n",
       "      <td>Luís de Camões</td>\n",
       "      <td>Mas, conquanto não pode haver desgosto</td>\n",
       "      <td>Mas, conquanto não pode haver desgosto\\r\\nOnde...</td>\n",
       "      <td>Mas, conquanto não pode haver desgosto \\r\\n\\r\\...</td>\n",
       "    </tr>\n",
       "    <tr>\n",
       "      <th>...</th>\n",
       "      <td>...</td>\n",
       "      <td>...</td>\n",
       "      <td>...</td>\n",
       "      <td>...</td>\n",
       "    </tr>\n",
       "    <tr>\n",
       "      <th>1994</th>\n",
       "      <td>Luís de Camões</td>\n",
       "      <td>Amor, que o gesto humano na alma escreve</td>\n",
       "      <td>Amor, que o gesto humano na alma escreve,\\r\\nV...</td>\n",
       "      <td>Amor, que o gesto humano na alma escreve \\r\\n\\...</td>\n",
       "    </tr>\n",
       "    <tr>\n",
       "      <th>2024</th>\n",
       "      <td>Luís de Camões</td>\n",
       "      <td>Ah! minha Dinamene! Assim deixaste</td>\n",
       "      <td>Ah! minha Dinamene! Assim deixaste\\r\\nQuem não...</td>\n",
       "      <td>Ah! minha Dinamene! Assim deixaste \\r\\n\\r\\n\\r\\...</td>\n",
       "    </tr>\n",
       "    <tr>\n",
       "      <th>2181</th>\n",
       "      <td>Luís de Camões</td>\n",
       "      <td>Um mover dolhos, brando e piadoso</td>\n",
       "      <td>Um mover dolhos, brando e piadoso,\\r\\nsem ver ...</td>\n",
       "      <td>Um mover dolhos, brando e piadoso \\r\\n\\r\\n\\r\\n...</td>\n",
       "    </tr>\n",
       "    <tr>\n",
       "      <th>2244</th>\n",
       "      <td>Luís de Camões</td>\n",
       "      <td>Tomou-me vossa vista soberana</td>\n",
       "      <td>Tomou-me vossa vista soberana\\r\\nAonde tinha a...</td>\n",
       "      <td>Tomou-me vossa vista soberana \\r\\n\\r\\n\\r\\n Tom...</td>\n",
       "    </tr>\n",
       "    <tr>\n",
       "      <th>2488</th>\n",
       "      <td>Luís de Camões</td>\n",
       "      <td>Ditoso seja aquele que somente</td>\n",
       "      <td>Ditoso seja aquele que somente\\r\\nSe queixa de...</td>\n",
       "      <td>Ditoso seja aquele que somente \\r\\n\\r\\n\\r\\n Di...</td>\n",
       "    </tr>\n",
       "  </tbody>\n",
       "</table>\n",
       "<p>70 rows × 4 columns</p>\n",
       "</div>"
      ],
      "text/plain": [
       "              Author                                     Title  \\\n",
       "40    Luís de Camões  Mudam-se os tempos, mudam-se as vontades   \n",
       "64    Luís de Camões           Amor é fogo que arde sem se ver   \n",
       "99    Luís de Camões                 Da alma e de quanto tiver   \n",
       "125   Luís de Camões     Transforma-se o amador na cousa amada   \n",
       "133   Luís de Camões    Mas, conquanto não pode haver desgosto   \n",
       "...              ...                                       ...   \n",
       "1994  Luís de Camões  Amor, que o gesto humano na alma escreve   \n",
       "2024  Luís de Camões        Ah! minha Dinamene! Assim deixaste   \n",
       "2181  Luís de Camões         Um mover dolhos, brando e piadoso   \n",
       "2244  Luís de Camões             Tomou-me vossa vista soberana   \n",
       "2488  Luís de Camões            Ditoso seja aquele que somente   \n",
       "\n",
       "                                                Content  \\\n",
       "40    Mudam-se os tempos, mudam-se as vontades,\\r\\nm...   \n",
       "64    Amor é fogo que arde sem se ver,\\r\\né ferida q...   \n",
       "99    Da alma e de quanto tiver\\r\\nQuero que me desp...   \n",
       "125   Transforma-se o amador na cousa amada,\\r\\nPor ...   \n",
       "133   Mas, conquanto não pode haver desgosto\\r\\nOnde...   \n",
       "...                                                 ...   \n",
       "1994  Amor, que o gesto humano na alma escreve,\\r\\nV...   \n",
       "2024  Ah! minha Dinamene! Assim deixaste\\r\\nQuem não...   \n",
       "2181  Um mover dolhos, brando e piadoso,\\r\\nsem ver ...   \n",
       "2244  Tomou-me vossa vista soberana\\r\\nAonde tinha a...   \n",
       "2488  Ditoso seja aquele que somente\\r\\nSe queixa de...   \n",
       "\n",
       "                                          Title+Content  \n",
       "40    Mudam-se os tempos, mudam-se as vontades \\r\\n\\...  \n",
       "64    Amor é fogo que arde sem se ver \\r\\n\\r\\n\\r\\n A...  \n",
       "99    Da alma e de quanto tiver \\r\\n\\r\\n\\r\\n Da alma...  \n",
       "125   Transforma-se o amador na cousa amada \\r\\n\\r\\n...  \n",
       "133   Mas, conquanto não pode haver desgosto \\r\\n\\r\\...  \n",
       "...                                                 ...  \n",
       "1994  Amor, que o gesto humano na alma escreve \\r\\n\\...  \n",
       "2024  Ah! minha Dinamene! Assim deixaste \\r\\n\\r\\n\\r\\...  \n",
       "2181  Um mover dolhos, brando e piadoso \\r\\n\\r\\n\\r\\n...  \n",
       "2244  Tomou-me vossa vista soberana \\r\\n\\r\\n\\r\\n Tom...  \n",
       "2488  Ditoso seja aquele que somente \\r\\n\\r\\n\\r\\n Di...  \n",
       "\n",
       "[70 rows x 4 columns]"
      ]
     },
     "execution_count": 9,
     "metadata": {},
     "output_type": "execute_result"
    }
   ],
   "source": [
    "data[data[\"Author\"]==\"Luís de Camões\"] #favorite poet"
   ]
  },
  {
   "cell_type": "code",
   "execution_count": 10,
   "metadata": {},
   "outputs": [
    {
     "name": "stdout",
     "output_type": "stream",
     "text": [
      "Amor é fogo que arde sem se ver \r\n",
      "\r\n",
      "\r\n",
      " Amor é fogo que arde sem se ver,\r\n",
      "é ferida que dói, e não se sente;\r\n",
      "é um contentamento descontente,\r\n",
      "é dor que desatina sem doer.\n",
      "\r\n",
      "É um não querer mais que bem querer;\r\n",
      "é um andar solitário entre a gente;\r\n",
      "é nunca contentar-se de contente;\r\n",
      "é um cuidar que ganha em se perder.\n",
      "\r\n",
      "É querer estar preso por vontade;\r\n",
      "é servir a quem vence, o vencedor;\r\n",
      "é ter com quem nos mata, lealdade.\n",
      "\r\n",
      "Mas como causar pode seu favor\r\n",
      "nos corações humanos amizade,\r\n",
      "se tão contrário a si é o mesmo Amor?\n"
     ]
    }
   ],
   "source": [
    "print(data[\"Title+Content\"][64])"
   ]
  },
  {
   "cell_type": "markdown",
   "metadata": {},
   "source": [
    "I will therefore delete the title and contents columns"
   ]
  },
  {
   "cell_type": "code",
   "execution_count": 11,
   "metadata": {},
   "outputs": [
    {
     "data": {
      "text/html": [
       "<div>\n",
       "<style scoped>\n",
       "    .dataframe tbody tr th:only-of-type {\n",
       "        vertical-align: middle;\n",
       "    }\n",
       "\n",
       "    .dataframe tbody tr th {\n",
       "        vertical-align: top;\n",
       "    }\n",
       "\n",
       "    .dataframe thead th {\n",
       "        text-align: right;\n",
       "    }\n",
       "</style>\n",
       "<table border=\"1\" class=\"dataframe\">\n",
       "  <thead>\n",
       "    <tr style=\"text-align: right;\">\n",
       "      <th></th>\n",
       "      <th>Author</th>\n",
       "      <th>Title+Content</th>\n",
       "    </tr>\n",
       "  </thead>\n",
       "  <tbody>\n",
       "    <tr>\n",
       "      <th>0</th>\n",
       "      <td>Cecília Meireles</td>\n",
       "      <td>Retrato \\r\\n\\r\\n\\r\\n Eu não tinha este rosto d...</td>\n",
       "    </tr>\n",
       "    <tr>\n",
       "      <th>1</th>\n",
       "      <td>Fernando Pessoa</td>\n",
       "      <td>Para ser grande, sê inteiro: nada \\r\\n\\r\\n\\r\\n...</td>\n",
       "    </tr>\n",
       "    <tr>\n",
       "      <th>2</th>\n",
       "      <td>Marina Colasanti</td>\n",
       "      <td>Eu sei, mas não devia \\r\\n\\r\\n\\r\\n Eu sei que ...</td>\n",
       "    </tr>\n",
       "    <tr>\n",
       "      <th>3</th>\n",
       "      <td>Carlos Drummond de Andrade</td>\n",
       "      <td>Quadrilha \\r\\n\\r\\n\\r\\n João amava Teresa que a...</td>\n",
       "    </tr>\n",
       "    <tr>\n",
       "      <th>4</th>\n",
       "      <td>Eugénio de Andrade</td>\n",
       "      <td>É urgente o amor \\r\\n\\r\\n\\r\\n É urgente o amor...</td>\n",
       "    </tr>\n",
       "    <tr>\n",
       "      <th>...</th>\n",
       "      <td>...</td>\n",
       "      <td>...</td>\n",
       "    </tr>\n",
       "    <tr>\n",
       "      <th>15538</th>\n",
       "      <td>Hashem Shaabani</td>\n",
       "      <td>Sete razões pelas quais eu deveria morrer \\r\\n...</td>\n",
       "    </tr>\n",
       "    <tr>\n",
       "      <th>15539</th>\n",
       "      <td>Helmut Heissenbüttel</td>\n",
       "      <td>Manchas de tinta fogem céleres \\r\\n\\r\\n\\r\\n ma...</td>\n",
       "    </tr>\n",
       "    <tr>\n",
       "      <th>15540</th>\n",
       "      <td>Leónidas Lamborghini</td>\n",
       "      <td>Falando sozinho \\r\\n\\r\\n\\r\\n Como aquele que v...</td>\n",
       "    </tr>\n",
       "    <tr>\n",
       "      <th>15541</th>\n",
       "      <td>Fernando Namora</td>\n",
       "      <td>Por Todos os Caminhos do Mundo \\r\\n\\r\\n\\r\\n A ...</td>\n",
       "    </tr>\n",
       "    <tr>\n",
       "      <th>15542</th>\n",
       "      <td>Guillermo Fernández</td>\n",
       "      <td>Discurso em homenagem a Heráclito \\r\\n\\r\\n\\r\\n...</td>\n",
       "    </tr>\n",
       "  </tbody>\n",
       "</table>\n",
       "<p>15543 rows × 2 columns</p>\n",
       "</div>"
      ],
      "text/plain": [
       "                           Author  \\\n",
       "0                Cecília Meireles   \n",
       "1                 Fernando Pessoa   \n",
       "2                Marina Colasanti   \n",
       "3      Carlos Drummond de Andrade   \n",
       "4              Eugénio de Andrade   \n",
       "...                           ...   \n",
       "15538             Hashem Shaabani   \n",
       "15539        Helmut Heissenbüttel   \n",
       "15540        Leónidas Lamborghini   \n",
       "15541             Fernando Namora   \n",
       "15542         Guillermo Fernández   \n",
       "\n",
       "                                           Title+Content  \n",
       "0      Retrato \\r\\n\\r\\n\\r\\n Eu não tinha este rosto d...  \n",
       "1      Para ser grande, sê inteiro: nada \\r\\n\\r\\n\\r\\n...  \n",
       "2      Eu sei, mas não devia \\r\\n\\r\\n\\r\\n Eu sei que ...  \n",
       "3      Quadrilha \\r\\n\\r\\n\\r\\n João amava Teresa que a...  \n",
       "4      É urgente o amor \\r\\n\\r\\n\\r\\n É urgente o amor...  \n",
       "...                                                  ...  \n",
       "15538  Sete razões pelas quais eu deveria morrer \\r\\n...  \n",
       "15539  Manchas de tinta fogem céleres \\r\\n\\r\\n\\r\\n ma...  \n",
       "15540  Falando sozinho \\r\\n\\r\\n\\r\\n Como aquele que v...  \n",
       "15541  Por Todos os Caminhos do Mundo \\r\\n\\r\\n\\r\\n A ...  \n",
       "15542  Discurso em homenagem a Heráclito \\r\\n\\r\\n\\r\\n...  \n",
       "\n",
       "[15543 rows x 2 columns]"
      ]
     },
     "execution_count": 11,
     "metadata": {},
     "output_type": "execute_result"
    }
   ],
   "source": [
    "data = data.drop(\"Title\", axis=1)\n",
    "data = data.drop(\"Content\", axis=1)\n",
    "data"
   ]
  },
  {
   "cell_type": "markdown",
   "metadata": {},
   "source": [
    "I will also delete \"nan\" rows of content"
   ]
  },
  {
   "cell_type": "code",
   "execution_count": 12,
   "metadata": {},
   "outputs": [
    {
     "data": {
      "text/html": [
       "<div>\n",
       "<style scoped>\n",
       "    .dataframe tbody tr th:only-of-type {\n",
       "        vertical-align: middle;\n",
       "    }\n",
       "\n",
       "    .dataframe tbody tr th {\n",
       "        vertical-align: top;\n",
       "    }\n",
       "\n",
       "    .dataframe thead th {\n",
       "        text-align: right;\n",
       "    }\n",
       "</style>\n",
       "<table border=\"1\" class=\"dataframe\">\n",
       "  <thead>\n",
       "    <tr style=\"text-align: right;\">\n",
       "      <th></th>\n",
       "      <th>Author</th>\n",
       "      <th>Title+Content</th>\n",
       "    </tr>\n",
       "  </thead>\n",
       "  <tbody>\n",
       "    <tr>\n",
       "      <th>0</th>\n",
       "      <td>Cecília Meireles</td>\n",
       "      <td>Retrato \\r\\n\\r\\n\\r\\n Eu não tinha este rosto d...</td>\n",
       "    </tr>\n",
       "    <tr>\n",
       "      <th>1</th>\n",
       "      <td>Fernando Pessoa</td>\n",
       "      <td>Para ser grande, sê inteiro: nada \\r\\n\\r\\n\\r\\n...</td>\n",
       "    </tr>\n",
       "    <tr>\n",
       "      <th>2</th>\n",
       "      <td>Marina Colasanti</td>\n",
       "      <td>Eu sei, mas não devia \\r\\n\\r\\n\\r\\n Eu sei que ...</td>\n",
       "    </tr>\n",
       "    <tr>\n",
       "      <th>3</th>\n",
       "      <td>Carlos Drummond de Andrade</td>\n",
       "      <td>Quadrilha \\r\\n\\r\\n\\r\\n João amava Teresa que a...</td>\n",
       "    </tr>\n",
       "    <tr>\n",
       "      <th>4</th>\n",
       "      <td>Eugénio de Andrade</td>\n",
       "      <td>É urgente o amor \\r\\n\\r\\n\\r\\n É urgente o amor...</td>\n",
       "    </tr>\n",
       "    <tr>\n",
       "      <th>...</th>\n",
       "      <td>...</td>\n",
       "      <td>...</td>\n",
       "    </tr>\n",
       "    <tr>\n",
       "      <th>15538</th>\n",
       "      <td>Hashem Shaabani</td>\n",
       "      <td>Sete razões pelas quais eu deveria morrer \\r\\n...</td>\n",
       "    </tr>\n",
       "    <tr>\n",
       "      <th>15539</th>\n",
       "      <td>Helmut Heissenbüttel</td>\n",
       "      <td>Manchas de tinta fogem céleres \\r\\n\\r\\n\\r\\n ma...</td>\n",
       "    </tr>\n",
       "    <tr>\n",
       "      <th>15540</th>\n",
       "      <td>Leónidas Lamborghini</td>\n",
       "      <td>Falando sozinho \\r\\n\\r\\n\\r\\n Como aquele que v...</td>\n",
       "    </tr>\n",
       "    <tr>\n",
       "      <th>15541</th>\n",
       "      <td>Fernando Namora</td>\n",
       "      <td>Por Todos os Caminhos do Mundo \\r\\n\\r\\n\\r\\n A ...</td>\n",
       "    </tr>\n",
       "    <tr>\n",
       "      <th>15542</th>\n",
       "      <td>Guillermo Fernández</td>\n",
       "      <td>Discurso em homenagem a Heráclito \\r\\n\\r\\n\\r\\n...</td>\n",
       "    </tr>\n",
       "  </tbody>\n",
       "</table>\n",
       "<p>15541 rows × 2 columns</p>\n",
       "</div>"
      ],
      "text/plain": [
       "                           Author  \\\n",
       "0                Cecília Meireles   \n",
       "1                 Fernando Pessoa   \n",
       "2                Marina Colasanti   \n",
       "3      Carlos Drummond de Andrade   \n",
       "4              Eugénio de Andrade   \n",
       "...                           ...   \n",
       "15538             Hashem Shaabani   \n",
       "15539        Helmut Heissenbüttel   \n",
       "15540        Leónidas Lamborghini   \n",
       "15541             Fernando Namora   \n",
       "15542         Guillermo Fernández   \n",
       "\n",
       "                                           Title+Content  \n",
       "0      Retrato \\r\\n\\r\\n\\r\\n Eu não tinha este rosto d...  \n",
       "1      Para ser grande, sê inteiro: nada \\r\\n\\r\\n\\r\\n...  \n",
       "2      Eu sei, mas não devia \\r\\n\\r\\n\\r\\n Eu sei que ...  \n",
       "3      Quadrilha \\r\\n\\r\\n\\r\\n João amava Teresa que a...  \n",
       "4      É urgente o amor \\r\\n\\r\\n\\r\\n É urgente o amor...  \n",
       "...                                                  ...  \n",
       "15538  Sete razões pelas quais eu deveria morrer \\r\\n...  \n",
       "15539  Manchas de tinta fogem céleres \\r\\n\\r\\n\\r\\n ma...  \n",
       "15540  Falando sozinho \\r\\n\\r\\n\\r\\n Como aquele que v...  \n",
       "15541  Por Todos os Caminhos do Mundo \\r\\n\\r\\n\\r\\n A ...  \n",
       "15542  Discurso em homenagem a Heráclito \\r\\n\\r\\n\\r\\n...  \n",
       "\n",
       "[15541 rows x 2 columns]"
      ]
     },
     "execution_count": 12,
     "metadata": {},
     "output_type": "execute_result"
    }
   ],
   "source": [
    "data = data.dropna(axis = 0)\n",
    "data"
   ]
  },
  {
   "cell_type": "markdown",
   "metadata": {},
   "source": [
    "Let us numeralize the data"
   ]
  },
  {
   "cell_type": "code",
   "execution_count": 14,
   "metadata": {},
   "outputs": [],
   "source": [
    "def string_tokenizer(string):\n",
    "    return \"<start> \" + string.lower().strip() + \" <end>\""
   ]
  },
  {
   "cell_type": "code",
   "execution_count": 15,
   "metadata": {},
   "outputs": [
    {
     "data": {
      "text/plain": [
       "'<start> amor é fogo que arde sem se ver \\r\\n\\r\\n\\r\\n amor é fogo que arde sem se ver,\\r\\né ferida que dói, e não se sente;\\r\\né um contentamento descontente,\\r\\né dor que desatina sem doer.\\n\\r\\né um não querer mais que bem querer;\\r\\né um andar solitário entre a gente;\\r\\né nunca contentar-se de contente;\\r\\né um cuidar que ganha em se perder.\\n\\r\\né querer estar preso por vontade;\\r\\né servir a quem vence, o vencedor;\\r\\né ter com quem nos mata, lealdade.\\n\\r\\nmas como causar pode seu favor\\r\\nnos corações humanos amizade,\\r\\nse tão contrário a si é o mesmo amor? <end>'"
      ]
     },
     "execution_count": 15,
     "metadata": {},
     "output_type": "execute_result"
    }
   ],
   "source": [
    "string_tokenizer(data[\"Title+Content\"][64])"
   ]
  },
  {
   "cell_type": "markdown",
   "metadata": {},
   "source": [
    "I also need to add space between punctuation and string markers"
   ]
  },
  {
   "cell_type": "code",
   "execution_count": 16,
   "metadata": {},
   "outputs": [],
   "source": [
    "def spacer(string):\n",
    "    string = re.sub(r\"([?.!,;])\", r\" \\1 \", string) #give space between punctuation\n",
    "    string = re.sub(r\"([\\n\\r])\", r\" \\1 \", string) #give space between tokens\n",
    "    return string"
   ]
  },
  {
   "cell_type": "code",
   "execution_count": 17,
   "metadata": {},
   "outputs": [
    {
     "data": {
      "text/plain": [
       "'Amor é fogo que arde sem se ver  \\r  \\n  \\r  \\n  \\r  \\n  Amor é fogo que arde sem se ver ,  \\r  \\n é ferida que dói ,  e não se sente ;  \\r  \\n é um contentamento descontente ,  \\r  \\n é dor que desatina sem doer .  \\n  \\r  \\n É um não querer mais que bem querer ;  \\r  \\n é um andar solitário entre a gente ;  \\r  \\n é nunca contentar-se de contente ;  \\r  \\n é um cuidar que ganha em se perder .  \\n  \\r  \\n É querer estar preso por vontade ;  \\r  \\n é servir a quem vence ,  o vencedor ;  \\r  \\n é ter com quem nos mata ,  lealdade .  \\n  \\r  \\n Mas como causar pode seu favor \\r  \\n nos corações humanos amizade ,  \\r  \\n se tão contrário a si é o mesmo Amor ? '"
      ]
     },
     "execution_count": 17,
     "metadata": {},
     "output_type": "execute_result"
    }
   ],
   "source": [
    "spacer(data[\"Title+Content\"][64])"
   ]
  },
  {
   "cell_type": "markdown",
   "metadata": {},
   "source": [
    "Finally, we make a general function for this"
   ]
  },
  {
   "cell_type": "code",
   "execution_count": 18,
   "metadata": {},
   "outputs": [],
   "source": [
    "def string_preprocess(string):\n",
    "    string = string_tokenizer(string)\n",
    "    string = spacer(string)\n",
    "    return string"
   ]
  },
  {
   "cell_type": "code",
   "execution_count": 19,
   "metadata": {},
   "outputs": [
    {
     "data": {
      "text/plain": [
       "'<start> amor é fogo que arde sem se ver  \\r  \\n  \\r  \\n  \\r  \\n  amor é fogo que arde sem se ver ,  \\r  \\n é ferida que dói ,  e não se sente ;  \\r  \\n é um contentamento descontente ,  \\r  \\n é dor que desatina sem doer .  \\n  \\r  \\n é um não querer mais que bem querer ;  \\r  \\n é um andar solitário entre a gente ;  \\r  \\n é nunca contentar-se de contente ;  \\r  \\n é um cuidar que ganha em se perder .  \\n  \\r  \\n é querer estar preso por vontade ;  \\r  \\n é servir a quem vence ,  o vencedor ;  \\r  \\n é ter com quem nos mata ,  lealdade .  \\n  \\r  \\n mas como causar pode seu favor \\r  \\n nos corações humanos amizade ,  \\r  \\n se tão contrário a si é o mesmo amor ?  <end>'"
      ]
     },
     "execution_count": 19,
     "metadata": {},
     "output_type": "execute_result"
    }
   ],
   "source": [
    "string_preprocess(data[\"Title+Content\"][64])"
   ]
  },
  {
   "cell_type": "markdown",
   "metadata": {},
   "source": [
    "Now appylying this to the whole data set"
   ]
  },
  {
   "cell_type": "code",
   "execution_count": 20,
   "metadata": {},
   "outputs": [],
   "source": [
    "author = data_np[:,0]\n",
    "poem = data_np[:,1]"
   ]
  },
  {
   "cell_type": "code",
   "execution_count": 34,
   "metadata": {},
   "outputs": [],
   "source": [
    "poem_preprocessed = [string_preprocess(text).split() for text in list(poem)] #also splits the srings, not as arrays"
   ]
  },
  {
   "cell_type": "code",
   "execution_count": 35,
   "metadata": {},
   "outputs": [
    {
     "data": {
      "text/plain": [
       "['<start>',\n",
       " 'retrato',\n",
       " 'eu',\n",
       " 'não',\n",
       " 'tinha',\n",
       " 'este',\n",
       " 'rosto',\n",
       " 'de',\n",
       " 'hoje',\n",
       " ',',\n",
       " 'assim',\n",
       " 'calmo',\n",
       " ',',\n",
       " 'assim',\n",
       " 'triste',\n",
       " ',',\n",
       " 'assim',\n",
       " 'magro',\n",
       " ',',\n",
       " 'nem',\n",
       " 'estes',\n",
       " 'olhos',\n",
       " 'tão',\n",
       " 'vazios',\n",
       " ',',\n",
       " 'nem',\n",
       " 'o',\n",
       " 'lábio',\n",
       " 'amargo',\n",
       " '.',\n",
       " 'eu',\n",
       " 'não',\n",
       " 'tinha',\n",
       " 'estas',\n",
       " 'mãos',\n",
       " 'sem',\n",
       " 'força',\n",
       " ',',\n",
       " 'tão',\n",
       " 'paradas',\n",
       " 'e',\n",
       " 'frias',\n",
       " 'e',\n",
       " 'mortas',\n",
       " ';',\n",
       " 'eu',\n",
       " 'não',\n",
       " 'tinha',\n",
       " 'este',\n",
       " 'coração',\n",
       " 'que',\n",
       " 'nem',\n",
       " 'se',\n",
       " 'mostra',\n",
       " '.',\n",
       " 'eu',\n",
       " 'não',\n",
       " 'dei',\n",
       " 'por',\n",
       " 'esta',\n",
       " 'mudança',\n",
       " ',',\n",
       " 'tão',\n",
       " 'simples',\n",
       " ',',\n",
       " 'tão',\n",
       " 'certa',\n",
       " ',',\n",
       " 'tão',\n",
       " 'fácil:',\n",
       " '-',\n",
       " 'em',\n",
       " 'que',\n",
       " 'espelho',\n",
       " 'ficou',\n",
       " 'perdida',\n",
       " 'a',\n",
       " 'minha',\n",
       " 'face',\n",
       " '?',\n",
       " '<end>']"
      ]
     },
     "execution_count": 35,
     "metadata": {},
     "output_type": "execute_result"
    }
   ],
   "source": [
    "poem_preprocessed[0]"
   ]
  },
  {
   "cell_type": "markdown",
   "metadata": {},
   "source": [
    "Let us check now how are sequence the sequences lenghts"
   ]
  },
  {
   "cell_type": "code",
   "execution_count": 67,
   "metadata": {},
   "outputs": [],
   "source": [
    "len_poems = [len(text) for text in poem_preprocessed]"
   ]
  },
  {
   "cell_type": "code",
   "execution_count": 74,
   "metadata": {},
   "outputs": [
    {
     "data": {
      "image/png": "[encoded data removed]",
      "text/plain": [
       "<Figure size 720x576 with 1 Axes>"
      ]
     },
     "metadata": {
      "needs_background": "light"
     },
     "output_type": "display_data"
    }
   ],
   "source": [
    "plt.figure(figsize=[10,8])\n",
    "n, bins, patches = plt.hist(x=len_poems, bins=15, color='#0504aa',alpha=0.7, rwidth=0.85)\n",
    "plt.grid(axis='y')\n",
    "plt.xlabel('Poem Length',fontsize=15)\n",
    "plt.ylabel('Frequency',fontsize=15)\n",
    "plt.xticks(fontsize=15)\n",
    "plt.yticks(fontsize=15)\n",
    "plt.ylabel('Frequency',fontsize=15)\n",
    "plt.show()"
   ]
  },
  {
   "cell_type": "markdown",
   "metadata": {},
   "source": [
    "A fairly decreasing distribution. Let us see it more numerically"
   ]
  },
  {
   "cell_type": "code",
   "execution_count": 99,
   "metadata": {},
   "outputs": [],
   "source": [
    "def stats(data, cap):\n",
    "    \"\"\"\n",
    "    Gives the data average and the percentile before a cap\n",
    "    \"\"\"\n",
    "    avg = sum(data)/len(data)\n",
    "    percentile_data = [data[element] for element in data if data[element]<cap]\n",
    "    percentile = len(percentile_data)/len(data)*100\n",
    "    return avg, percentile"
   ]
  },
  {
   "cell_type": "markdown",
   "metadata": {},
   "source": [
    "Let us see the percentiles"
   ]
  },
  {
   "cell_type": "code",
   "execution_count": 106,
   "metadata": {},
   "outputs": [
    {
     "name": "stdout",
     "output_type": "stream",
     "text": [
      "100 ----> 53.053214078888104 %\n",
      "200 ----> 81.62280419535422 %\n",
      "300 ----> 89.61456791712244 %\n",
      "500 ----> 96.3387169422817 %\n",
      "700 ----> 97.56772408467923 %\n",
      "1000 ----> 98.97046522102825 %\n"
     ]
    }
   ],
   "source": [
    "for cap in [100,200,300,500,700,1000]:\n",
    "    print(cap,\"---->\",stats(len_poems, cap)[1],\"%\")"
   ]
  },
  {
   "cell_type": "markdown",
   "metadata": {},
   "source": [
    "Looking at only 300 length poems seems reasonable. I will then take these poems only"
   ]
  },
  {
   "cell_type": "code",
   "execution_count": 110,
   "metadata": {},
   "outputs": [],
   "source": [
    "max_poem = 300"
   ]
  },
  {
   "cell_type": "code",
   "execution_count": 120,
   "metadata": {},
   "outputs": [
    {
     "data": {
      "text/plain": [
       "(9638, 2)"
      ]
     },
     "execution_count": 120,
     "metadata": {},
     "output_type": "execute_result"
    }
   ],
   "source": [
    "data_np = np.array([data_np[element] for element in range(len(data_np)) if len_poems[element] <= max_poem])\n",
    "data_np.shape"
   ]
  },
  {
   "cell_type": "code",
   "execution_count": 125,
   "metadata": {},
   "outputs": [],
   "source": [
    "author = data_np[:,0]\n",
    "poem = data_np[:,1]"
   ]
  },
  {
   "cell_type": "code",
   "execution_count": 126,
   "metadata": {},
   "outputs": [
    {
     "data": {
      "text/plain": [
       "['<start>',\n",
       " 'retrato',\n",
       " 'eu',\n",
       " 'não',\n",
       " 'tinha',\n",
       " 'este',\n",
       " 'rosto',\n",
       " 'de',\n",
       " 'hoje',\n",
       " ',',\n",
       " 'assim',\n",
       " 'calmo',\n",
       " ',',\n",
       " 'assim',\n",
       " 'triste',\n",
       " ',',\n",
       " 'assim',\n",
       " 'magro',\n",
       " ',',\n",
       " 'nem',\n",
       " 'estes',\n",
       " 'olhos',\n",
       " 'tão',\n",
       " 'vazios',\n",
       " ',',\n",
       " 'nem',\n",
       " 'o',\n",
       " 'lábio',\n",
       " 'amargo',\n",
       " '.',\n",
       " 'eu',\n",
       " 'não',\n",
       " 'tinha',\n",
       " 'estas',\n",
       " 'mãos',\n",
       " 'sem',\n",
       " 'força',\n",
       " ',',\n",
       " 'tão',\n",
       " 'paradas',\n",
       " 'e',\n",
       " 'frias',\n",
       " 'e',\n",
       " 'mortas',\n",
       " ';',\n",
       " 'eu',\n",
       " 'não',\n",
       " 'tinha',\n",
       " 'este',\n",
       " 'coração',\n",
       " 'que',\n",
       " 'nem',\n",
       " 'se',\n",
       " 'mostra',\n",
       " '.',\n",
       " 'eu',\n",
       " 'não',\n",
       " 'dei',\n",
       " 'por',\n",
       " 'esta',\n",
       " 'mudança',\n",
       " ',',\n",
       " 'tão',\n",
       " 'simples',\n",
       " ',',\n",
       " 'tão',\n",
       " 'certa',\n",
       " ',',\n",
       " 'tão',\n",
       " 'fácil:',\n",
       " '-',\n",
       " 'em',\n",
       " 'que',\n",
       " 'espelho',\n",
       " 'ficou',\n",
       " 'perdida',\n",
       " 'a',\n",
       " 'minha',\n",
       " 'face',\n",
       " '?',\n",
       " '<end>']"
      ]
     },
     "execution_count": 126,
     "metadata": {},
     "output_type": "execute_result"
    }
   ],
   "source": [
    "poem_preprocessed = [string_preprocess(text).split() for text in list(poem)]\n",
    "poem_preprocessed[0]"
   ]
  },
  {
   "cell_type": "markdown",
   "metadata": {},
   "source": [
    "Now, let us build the vocabulary"
   ]
  },
  {
   "cell_type": "code",
   "execution_count": 128,
   "metadata": {},
   "outputs": [],
   "source": [
    "from collections import Counter \n",
    "vocab = Counter() #make counter\n",
    "for poem in poem_preprocessed:\n",
    "    vocab.update(list(poem))"
   ]
  },
  {
   "cell_type": "markdown",
   "metadata": {},
   "source": [
    "So the vocabulary size is"
   ]
  },
  {
   "cell_type": "code",
   "execution_count": 129,
   "metadata": {},
   "outputs": [
    {
     "data": {
      "text/plain": [
       "83291"
      ]
     },
     "execution_count": 129,
     "metadata": {},
     "output_type": "execute_result"
    }
   ],
   "source": [
    "len(vocab)"
   ]
  },
  {
   "cell_type": "code",
   "execution_count": 131,
   "metadata": {},
   "outputs": [
    {
     "data": {
      "text/plain": [
       "[(',', 69231),\n",
       " ('.', 66104),\n",
       " ('de', 30571),\n",
       " ('a', 29501),\n",
       " ('que', 27670),\n",
       " ('e', 27384),\n",
       " ('o', 26474),\n",
       " ('do', 10850),\n",
       " ('não', 10465),\n",
       " ('<start>', 9638),\n",
       " ('<end>', 9638),\n",
       " ('um', 8787),\n",
       " ('da', 8780),\n",
       " ('é', 8698),\n",
       " ('em', 8414),\n",
       " ('se', 8330),\n",
       " ('no', 7618),\n",
       " ('!', 7312),\n",
       " ('os', 7036),\n",
       " ('as', 6298),\n",
       " ('me', 5761),\n",
       " ('na', 5486),\n",
       " ('como', 5054),\n",
       " ('eu', 4940),\n",
       " ('com', 4529),\n",
       " ('uma', 4515),\n",
       " ('?', 4426),\n",
       " ('para', 4267),\n",
       " ('por', 4194),\n",
       " ('meu', 4154),\n",
       " ('mais', 3852),\n",
       " ('ao', 3783),\n",
       " ('dos', 3588),\n",
       " (';', 3374),\n",
       " ('sem', 3161),\n",
       " ('mas', 2871),\n",
       " ('das', 2802),\n",
       " ('vida', 2784),\n",
       " ('à', 2725),\n",
       " ('minha', 2677),\n",
       " ('nos', 2671),\n",
       " ('amor', 2577),\n",
       " ('te', 2557),\n",
       " ('teu', 2311),\n",
       " ('só', 2275),\n",
       " ('quem', 2180),\n",
       " ('quando', 2161),\n",
       " ('ser', 2160),\n",
       " ('ou', 2130),\n",
       " ('the', 2079),\n",
       " ('tudo', 2035),\n",
       " ('nem', 1961),\n",
       " ('onde', 1937),\n",
       " ('noite', 1913),\n",
       " ('la', 1907),\n",
       " ('são', 1881),\n",
       " ('mim', 1873),\n",
       " ('—', 1820),\n",
       " ('seu', 1810),\n",
       " ('há', 1791),\n",
       " ('olhos', 1741),\n",
       " ('-', 1710),\n",
       " ('el', 1667),\n",
       " ('já', 1662),\n",
       " ('dia', 1639),\n",
       " ('tão', 1538),\n",
       " ('tempo', 1498),\n",
       " ('nada', 1471),\n",
       " ('tua', 1435),\n",
       " ('sol', 1403),\n",
       " ('meus', 1395),\n",
       " ('mar', 1393),\n",
       " ('mundo', 1391),\n",
       " ('sempre', 1385),\n",
       " ('corpo', 1383),\n",
       " ('nas', 1383),\n",
       " ('y', 1382),\n",
       " ('luz', 1379),\n",
       " ('sobre', 1365),\n",
       " ('sou', 1361),\n",
       " ('alma', 1348),\n",
       " ('|', 1294),\n",
       " ('entre', 1283),\n",
       " ('and', 1280),\n",
       " ('sua', 1230),\n",
       " ('tu', 1214),\n",
       " ('terra', 1199),\n",
       " ('coração', 1189),\n",
       " ('sei', 1179),\n",
       " ('tem', 1164),\n",
       " ('era', 1157),\n",
       " ('porque', 1151),\n",
       " ('assim', 1079),\n",
       " ('teus', 1079),\n",
       " ('en', 1054),\n",
       " ('of', 1046),\n",
       " ('quero', 1030),\n",
       " ('bem', 1023),\n",
       " ('num', 1001),\n",
       " ('céu', 991)]"
      ]
     },
     "execution_count": 131,
     "metadata": {},
     "output_type": "execute_result"
    }
   ],
   "source": [
    "vocab.most_common()[0:100]"
   ]
  },
  {
   "cell_type": "markdown",
   "metadata": {},
   "source": [
    "Seems I will use only part of the vocabulary. I will use only 15000 words"
   ]
  },
  {
   "cell_type": "code",
   "execution_count": 132,
   "metadata": {},
   "outputs": [
    {
     "data": {
      "text/plain": [
       "[',',\n",
       " '.',\n",
       " 'de',\n",
       " 'a',\n",
       " 'e',\n",
       " 'que',\n",
       " 'o',\n",
       " 'do',\n",
       " 'não',\n",
       " 'da',\n",
       " 'um',\n",
       " '!',\n",
       " 'em',\n",
       " 'é',\n",
       " 'se',\n",
       " 'no',\n",
       " 'os',\n",
       " '<start>',\n",
       " '<end>',\n",
       " 'as']"
      ]
     },
     "execution_count": 132,
     "metadata": {},
     "output_type": "execute_result"
    }
   ],
   "source": [
    "vocab_size = 15000 \n",
    "truncated_vocab = [word for word, count in vocabulary.most_common()[: vocab_size]] #word,count represents the fact that the entries in most_common are duplets\n",
    "truncated_vocab[0:20]"
   ]
  },
  {
   "cell_type": "markdown",
   "metadata": {},
   "source": [
    "And we will make a translator to numeralize"
   ]
  },
  {
   "cell_type": "code",
   "execution_count": 152,
   "metadata": {},
   "outputs": [],
   "source": [
    "translator = {truncated_vocab[number]:number+1 for number in range(0,len(truncated_vocab))} #I add +1 to the keys because I want to use 0 for padding"
   ]
  },
  {
   "cell_type": "code",
   "execution_count": 153,
   "metadata": {},
   "outputs": [
    {
     "data": {
      "text/plain": [
       "[24, 22, 43, 97]"
      ]
     },
     "execution_count": 153,
     "metadata": {},
     "output_type": "execute_result"
    }
   ],
   "source": [
    "[translator[word] for word in [\"eu\", \"como\",\"amor\",\"deus\"]]"
   ]
  },
  {
   "cell_type": "markdown",
   "metadata": {},
   "source": [
    "Great! Let us apply the dictionary to the data, padding when necessary!"
   ]
  },
  {
   "cell_type": "code",
   "execution_count": 159,
   "metadata": {},
   "outputs": [],
   "source": [
    "poem_final = []\n",
    "for text in poem_preprocessed:\n",
    "    translation = []\n",
    "    for word in text:\n",
    "        if word not in translator:#if out of dictionary word\n",
    "            translation.append(len(translator)+2) \n",
    "        else: #else add the translation\n",
    "            translation.append(translator[word])\n",
    "    \n",
    "    if len(translation) != max_poem: #do the padding\n",
    "        padding = [0 for number in range(max_poem-len(text))]\n",
    "        translation += padding\n",
    "    poem_final.append(translation)\n",
    "\n",
    "poem_final = np.array(poem_final)"
   ]
  },
  {
   "cell_type": "code",
   "execution_count": 163,
   "metadata": {},
   "outputs": [
    {
     "data": {
      "text/plain": [
       "array([   18,  1153,    24,     9,   293,   131,   223,     3,   159,\n",
       "           1,    93,  2075,     1,    93,   192,     1,    93,  4217,\n",
       "           1,    57,   738,    63,    68,  2793,     1,    57,     7,\n",
       "        1746,  1626,     2,    24,     9,   293,   632,   132,    36,\n",
       "         383,     1,    68,  5649,     5,  1775,     5,  1358,    33,\n",
       "          24,     9,   293,   131,    90,     6,    57,    15,  1530,\n",
       "           2,    24,     9,  1376,    28,   123,  2975,     1,    68,\n",
       "         550,     1,    68,   862,     1,    68, 15002,    58,    13,\n",
       "           6,   577,   573,   693,     4,    41,   351,    25,    19,\n",
       "           0,     0,     0,     0,     0,     0,     0,     0,     0,\n",
       "           0,     0,     0,     0,     0,     0,     0,     0,     0,\n",
       "           0,     0,     0,     0,     0,     0,     0,     0,     0,\n",
       "           0,     0,     0,     0,     0,     0,     0,     0,     0,\n",
       "           0,     0,     0,     0,     0,     0,     0,     0,     0,\n",
       "           0,     0,     0,     0,     0,     0,     0,     0,     0,\n",
       "           0,     0,     0,     0,     0,     0,     0,     0,     0,\n",
       "           0,     0,     0,     0,     0,     0,     0,     0,     0,\n",
       "           0,     0,     0,     0,     0,     0,     0,     0,     0,\n",
       "           0,     0,     0,     0,     0,     0,     0,     0,     0,\n",
       "           0,     0,     0,     0,     0,     0,     0,     0,     0,\n",
       "           0,     0,     0,     0,     0,     0,     0,     0,     0,\n",
       "           0,     0,     0,     0,     0,     0,     0,     0,     0,\n",
       "           0,     0,     0,     0,     0,     0,     0,     0,     0,\n",
       "           0,     0,     0,     0,     0,     0,     0,     0,     0,\n",
       "           0,     0,     0,     0,     0,     0,     0,     0,     0,\n",
       "           0,     0,     0,     0,     0,     0,     0,     0,     0,\n",
       "           0,     0,     0,     0,     0,     0,     0,     0,     0,\n",
       "           0,     0,     0,     0,     0,     0,     0,     0,     0,\n",
       "           0,     0,     0,     0,     0,     0,     0,     0,     0,\n",
       "           0,     0,     0,     0,     0,     0,     0,     0,     0,\n",
       "           0,     0,     0,     0,     0,     0,     0,     0,     0,\n",
       "           0,     0,     0,     0,     0,     0,     0,     0,     0,\n",
       "           0,     0,     0,     0,     0,     0,     0,     0,     0,\n",
       "           0,     0,     0])"
      ]
     },
     "execution_count": 163,
     "metadata": {},
     "output_type": "execute_result"
    }
   ],
   "source": [
    "poem_final[0]"
   ]
  },
  {
   "cell_type": "markdown",
   "metadata": {},
   "source": [
    "And split the data"
   ]
  },
  {
   "cell_type": "code",
   "execution_count": 164,
   "metadata": {},
   "outputs": [],
   "source": [
    "author_train, author_pre_val, poem_train, poem_pre_val = train_test_split(author, poem_final, test_size = 0.2, random_state = 42)"
   ]
  },
  {
   "cell_type": "code",
   "execution_count": 165,
   "metadata": {},
   "outputs": [
    {
     "data": {
      "text/plain": [
       "((7710,), (1928,), (7710, 300), (1928, 300))"
      ]
     },
     "execution_count": 165,
     "metadata": {},
     "output_type": "execute_result"
    }
   ],
   "source": [
    "author_train.shape, author_pre_val.shape, poem_train.shape, poem_pre_val.shape"
   ]
  },
  {
   "cell_type": "markdown",
   "metadata": {},
   "source": [
    "And now split the remaining into test and validation"
   ]
  },
  {
   "cell_type": "code",
   "execution_count": 166,
   "metadata": {},
   "outputs": [],
   "source": [
    "author_val, auhtor_test, poem_val, poem_test = train_test_split(author_pre_val, poem_pre_val, test_size = 0.5, random_state = 42)"
   ]
  },
  {
   "cell_type": "code",
   "execution_count": 167,
   "metadata": {},
   "outputs": [
    {
     "data": {
      "text/plain": [
       "((964,), (964,), (964, 300), (964, 300))"
      ]
     },
     "execution_count": 167,
     "metadata": {},
     "output_type": "execute_result"
    }
   ],
   "source": [
    "author_val.shape, auhtor_test.shape, poem_val.shape, poem_test.shape"
   ]
  },
  {
   "cell_type": "markdown",
   "metadata": {},
   "source": [
    "Great! Time to train! First, I will sequentialize the data"
   ]
  },
  {
   "cell_type": "code",
   "execution_count": null,
   "metadata": {},
   "outputs": [],
   "source": []
  }
 ],
 "metadata": {
  "kernelspec": {
   "display_name": "tf",
   "language": "python",
   "name": "tf"
  },
  "language_info": {
   "codemirror_mode": {
    "name": "ipython",
    "version": 3
   },
   "file_extension": ".py",
   "mimetype": "text/x-python",
   "name": "python",
   "nbconvert_exporter": "python",
   "pygments_lexer": "ipython3",
   "version": "3.7.7"
  }
 },
 "nbformat": 4,
 "nbformat_minor": 4
}

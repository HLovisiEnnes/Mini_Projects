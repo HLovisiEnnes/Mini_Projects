{
 "cells": [
  {
   "cell_type": "code",
   "execution_count": 1,
   "metadata": {},
   "outputs": [],
   "source": [
    "import numpy as np\n",
    "import pandas as pd\n",
    "import matplotlib.pyplot as plt"
   ]
  },
  {
   "cell_type": "code",
   "execution_count": 2,
   "metadata": {},
   "outputs": [],
   "source": [
    "raw_data = pd.read_csv(\"seattleWeather_1948-2017.csv\")"
   ]
  },
  {
   "cell_type": "code",
   "execution_count": 3,
   "metadata": {},
   "outputs": [],
   "source": [
    "from sklearn.preprocessing import StandardScaler"
   ]
  },
  {
   "cell_type": "code",
   "execution_count": 4,
   "metadata": {},
   "outputs": [],
   "source": [
    "scaler = StandardScaler()"
   ]
  },
  {
   "cell_type": "code",
   "execution_count": 5,
   "metadata": {},
   "outputs": [
    {
     "data": {
      "text/html": [
       "<div>\n",
       "<style scoped>\n",
       "    .dataframe tbody tr th:only-of-type {\n",
       "        vertical-align: middle;\n",
       "    }\n",
       "\n",
       "    .dataframe tbody tr th {\n",
       "        vertical-align: top;\n",
       "    }\n",
       "\n",
       "    .dataframe thead th {\n",
       "        text-align: right;\n",
       "    }\n",
       "</style>\n",
       "<table border=\"1\" class=\"dataframe\">\n",
       "  <thead>\n",
       "    <tr style=\"text-align: right;\">\n",
       "      <th></th>\n",
       "      <th>TMAX</th>\n",
       "      <th>TMIN</th>\n",
       "      <th>TAVG</th>\n",
       "    </tr>\n",
       "  </thead>\n",
       "  <tbody>\n",
       "    <tr>\n",
       "      <th>0</th>\n",
       "      <td>51</td>\n",
       "      <td>42</td>\n",
       "      <td>46.5</td>\n",
       "    </tr>\n",
       "    <tr>\n",
       "      <th>1</th>\n",
       "      <td>45</td>\n",
       "      <td>36</td>\n",
       "      <td>40.5</td>\n",
       "    </tr>\n",
       "    <tr>\n",
       "      <th>2</th>\n",
       "      <td>45</td>\n",
       "      <td>35</td>\n",
       "      <td>40.0</td>\n",
       "    </tr>\n",
       "    <tr>\n",
       "      <th>3</th>\n",
       "      <td>45</td>\n",
       "      <td>34</td>\n",
       "      <td>39.5</td>\n",
       "    </tr>\n",
       "    <tr>\n",
       "      <th>4</th>\n",
       "      <td>45</td>\n",
       "      <td>32</td>\n",
       "      <td>38.5</td>\n",
       "    </tr>\n",
       "    <tr>\n",
       "      <th>...</th>\n",
       "      <td>...</td>\n",
       "      <td>...</td>\n",
       "      <td>...</td>\n",
       "    </tr>\n",
       "    <tr>\n",
       "      <th>25546</th>\n",
       "      <td>49</td>\n",
       "      <td>34</td>\n",
       "      <td>41.5</td>\n",
       "    </tr>\n",
       "    <tr>\n",
       "      <th>25547</th>\n",
       "      <td>49</td>\n",
       "      <td>29</td>\n",
       "      <td>39.0</td>\n",
       "    </tr>\n",
       "    <tr>\n",
       "      <th>25548</th>\n",
       "      <td>46</td>\n",
       "      <td>32</td>\n",
       "      <td>39.0</td>\n",
       "    </tr>\n",
       "    <tr>\n",
       "      <th>25549</th>\n",
       "      <td>48</td>\n",
       "      <td>34</td>\n",
       "      <td>41.0</td>\n",
       "    </tr>\n",
       "    <tr>\n",
       "      <th>25550</th>\n",
       "      <td>50</td>\n",
       "      <td>36</td>\n",
       "      <td>43.0</td>\n",
       "    </tr>\n",
       "  </tbody>\n",
       "</table>\n",
       "<p>25551 rows × 3 columns</p>\n",
       "</div>"
      ],
      "text/plain": [
       "       TMAX  TMIN  TAVG\n",
       "0        51    42  46.5\n",
       "1        45    36  40.5\n",
       "2        45    35  40.0\n",
       "3        45    34  39.5\n",
       "4        45    32  38.5\n",
       "...     ...   ...   ...\n",
       "25546    49    34  41.5\n",
       "25547    49    29  39.0\n",
       "25548    46    32  39.0\n",
       "25549    48    34  41.0\n",
       "25550    50    36  43.0\n",
       "\n",
       "[25551 rows x 3 columns]"
      ]
     },
     "execution_count": 5,
     "metadata": {},
     "output_type": "execute_result"
    }
   ],
   "source": [
    "data = raw_data.drop(\"DATE\",axis=1)\n",
    "data[\"TAVG\"]=(data[\"TMAX\"]+data[\"TMIN\"])/2\n",
    "data =  data.drop(\"PRCP\", axis=1)\n",
    "data = data.drop(\"RAIN\", axis=1)\n",
    "data"
   ]
  },
  {
   "cell_type": "code",
   "execution_count": 6,
   "metadata": {},
   "outputs": [
    {
     "data": {
      "text/html": [
       "<div>\n",
       "<style scoped>\n",
       "    .dataframe tbody tr th:only-of-type {\n",
       "        vertical-align: middle;\n",
       "    }\n",
       "\n",
       "    .dataframe tbody tr th {\n",
       "        vertical-align: top;\n",
       "    }\n",
       "\n",
       "    .dataframe thead th {\n",
       "        text-align: right;\n",
       "    }\n",
       "</style>\n",
       "<table border=\"1\" class=\"dataframe\">\n",
       "  <thead>\n",
       "    <tr style=\"text-align: right;\">\n",
       "      <th></th>\n",
       "      <th>TMIN</th>\n",
       "    </tr>\n",
       "  </thead>\n",
       "  <tbody>\n",
       "    <tr>\n",
       "      <th>0</th>\n",
       "      <td>42</td>\n",
       "    </tr>\n",
       "    <tr>\n",
       "      <th>1</th>\n",
       "      <td>36</td>\n",
       "    </tr>\n",
       "    <tr>\n",
       "      <th>2</th>\n",
       "      <td>35</td>\n",
       "    </tr>\n",
       "    <tr>\n",
       "      <th>3</th>\n",
       "      <td>34</td>\n",
       "    </tr>\n",
       "    <tr>\n",
       "      <th>4</th>\n",
       "      <td>32</td>\n",
       "    </tr>\n",
       "    <tr>\n",
       "      <th>...</th>\n",
       "      <td>...</td>\n",
       "    </tr>\n",
       "    <tr>\n",
       "      <th>25546</th>\n",
       "      <td>34</td>\n",
       "    </tr>\n",
       "    <tr>\n",
       "      <th>25547</th>\n",
       "      <td>29</td>\n",
       "    </tr>\n",
       "    <tr>\n",
       "      <th>25548</th>\n",
       "      <td>32</td>\n",
       "    </tr>\n",
       "    <tr>\n",
       "      <th>25549</th>\n",
       "      <td>34</td>\n",
       "    </tr>\n",
       "    <tr>\n",
       "      <th>25550</th>\n",
       "      <td>36</td>\n",
       "    </tr>\n",
       "  </tbody>\n",
       "</table>\n",
       "<p>25551 rows × 1 columns</p>\n",
       "</div>"
      ],
      "text/plain": [
       "       TMIN\n",
       "0        42\n",
       "1        36\n",
       "2        35\n",
       "3        34\n",
       "4        32\n",
       "...     ...\n",
       "25546    34\n",
       "25547    29\n",
       "25548    32\n",
       "25549    34\n",
       "25550    36\n",
       "\n",
       "[25551 rows x 1 columns]"
      ]
     },
     "execution_count": 6,
     "metadata": {},
     "output_type": "execute_result"
    }
   ],
   "source": [
    "tmin = data.drop(\"TMAX\", axis=1)\n",
    "tmin = tmin.drop(\"TAVG\", axis=1)\n",
    "tmin"
   ]
  },
  {
   "cell_type": "code",
   "execution_count": 7,
   "metadata": {},
   "outputs": [
    {
     "data": {
      "text/plain": [
       "StandardScaler(copy=True, with_mean=True, with_std=True)"
      ]
     },
     "execution_count": 7,
     "metadata": {},
     "output_type": "execute_result"
    }
   ],
   "source": [
    "scaler.fit(tmin)"
   ]
  },
  {
   "cell_type": "code",
   "execution_count": 8,
   "metadata": {},
   "outputs": [],
   "source": [
    "pred_min = np.load(\"Min_Temp_pred_2.npy\")\n",
    "y_min = np.load(\"Min_Temp_y_2.npy\")"
   ]
  },
  {
   "cell_type": "code",
   "execution_count": 9,
   "metadata": {},
   "outputs": [],
   "source": [
    "pred_min_scl = scaler.inverse_transform(pred_min)\n",
    "y_min_scl = scaler.inverse_transform(y_min)"
   ]
  },
  {
   "cell_type": "code",
   "execution_count": 12,
   "metadata": {},
   "outputs": [],
   "source": [
    "def cel(data):\n",
    "    resul = (data-32)/1.8\n",
    "    return resul"
   ]
  },
  {
   "cell_type": "code",
   "execution_count": 13,
   "metadata": {},
   "outputs": [],
   "source": [
    "pred_min_cel = cel(pred_min_scl)\n",
    "y_min_cel = cel(y_min_scl)"
   ]
  },
  {
   "cell_type": "code",
   "execution_count": 34,
   "metadata": {},
   "outputs": [
    {
     "data": {
      "image/png": "[encoded data removed]",
      "text/plain": [
       "<Figure size 432x288 with 1 Axes>"
      ]
     },
     "metadata": {
      "needs_background": "light"
     },
     "output_type": "display_data"
    }
   ],
   "source": [
    "plt.scatter(range(365),pred_min_cel.reshape(-1,1)[-365:])\n",
    "plt.scatter(range(365), y_min_cel.reshape(-1,1)[-365:])\n",
    "plt.show()"
   ]
  },
  {
   "cell_type": "code",
   "execution_count": 29,
   "metadata": {},
   "outputs": [],
   "source": [
    "error = pred_min_cel.reshape(-1,1)-y_min_cel.reshape(-1,1)"
   ]
  },
  {
   "cell_type": "code",
   "execution_count": 30,
   "metadata": {},
   "outputs": [
    {
     "data": {
      "text/plain": [
       "(array([  1.,   0.,   0.,   0.,   0.,   0.,   4.,   0.,   5.,   0.,  11.,\n",
       "          5.,  16.,  21.,  27.,  26.,  58.,  51.,  71.,  95., 117., 112.,\n",
       "        168., 184., 252., 265., 308., 341., 337., 349., 326., 282., 280.,\n",
       "        261., 221., 183., 143., 124.,  89.,  57.,  51.,  26.,  24.,  18.,\n",
       "          9.,  11.,   6.,   7.,   3.,   4.]),\n",
       " array([-9.3995262 , -9.07931131, -8.75909642, -8.43888154, -8.11866665,\n",
       "        -7.79845176, -7.47823687, -7.15802198, -6.8378071 , -6.51759221,\n",
       "        -6.19737732, -5.87716243, -5.55694755, -5.23673266, -4.91651777,\n",
       "        -4.59630288, -4.276088  , -3.95587311, -3.63565822, -3.31544333,\n",
       "        -2.99522844, -2.67501356, -2.35479867, -2.03458378, -1.71436889,\n",
       "        -1.39415401, -1.07393912, -0.75372423, -0.43350934, -0.11329445,\n",
       "         0.20692043,  0.52713532,  0.84735021,  1.1675651 ,  1.48777998,\n",
       "         1.80799487,  2.12820976,  2.44842465,  2.76863953,  3.08885442,\n",
       "         3.40906931,  3.7292842 ,  4.04949909,  4.36971397,  4.68992886,\n",
       "         5.01014375,  5.33035864,  5.65057352,  5.97078841,  6.2910033 ,\n",
       "         6.61121819]),\n",
       " <a list of 50 Patch objects>)"
      ]
     },
     "execution_count": 30,
     "metadata": {},
     "output_type": "execute_result"
    },
    {
     "data": {
      "image/png": "[encoded data removed]",
      "text/plain": [
       "<Figure size 432x288 with 1 Axes>"
      ]
     },
     "metadata": {
      "needs_background": "light"
     },
     "output_type": "display_data"
    }
   ],
   "source": [
    "plt.hist(error,bins=50)"
   ]
  },
  {
   "cell_type": "code",
   "execution_count": 35,
   "metadata": {},
   "outputs": [
    {
     "data": {
      "text/plain": [
       "(array([  4.,   3.,   5.,   3.,  10.,   8.,  16.,  11.,  16.,  12.,  27.,\n",
       "         43.,  46.,  53.,  60.,  85., 107., 130., 105., 144., 146., 148.,\n",
       "        150., 149., 151., 151., 165., 150., 155., 150., 107.,  90., 100.,\n",
       "        104., 105., 123., 143., 154., 145., 167., 138., 177., 164., 189.,\n",
       "        199., 185., 102.,  94.,  49.,  11.]),\n",
       " array([-5.5701776 , -5.134307  , -4.6984363 , -4.2625656 , -3.8266947 ,\n",
       "        -3.390824  , -2.9549532 , -2.5190825 , -2.083212  , -1.6473411 ,\n",
       "        -1.2114704 , -0.7755997 , -0.33972898,  0.09614173,  0.53201246,\n",
       "         0.96788317,  1.4037539 ,  1.8396246 ,  2.2754953 ,  2.711366  ,\n",
       "         3.1472368 ,  3.5831075 ,  4.018978  ,  4.454849  ,  4.8907194 ,\n",
       "         5.3265905 ,  5.762461  ,  6.198332  ,  6.6342025 ,  7.070073  ,\n",
       "         7.505944  ,  7.9418144 ,  8.377686  ,  8.813556  ,  9.249427  ,\n",
       "         9.685297  , 10.121168  , 10.557039  , 10.992909  , 11.428781  ,\n",
       "        11.864651  , 12.300522  , 12.736392  , 13.172263  , 13.608134  ,\n",
       "        14.044004  , 14.479876  , 14.915746  , 15.351617  , 15.787487  ,\n",
       "        16.223358  ], dtype=float32),\n",
       " <a list of 50 Patch objects>)"
      ]
     },
     "execution_count": 35,
     "metadata": {},
     "output_type": "execute_result"
    },
    {
     "data": {
      "image/png": "[encoded data removed]",
      "text/plain": [
       "<Figure size 432x288 with 1 Axes>"
      ]
     },
     "metadata": {
      "needs_background": "light"
     },
     "output_type": "display_data"
    }
   ],
   "source": [
    "plt.hist(pred_min_cel.reshape(-1,1),bins=50)"
   ]
  },
  {
   "cell_type": "code",
   "execution_count": 36,
   "metadata": {},
   "outputs": [
    {
     "data": {
      "text/plain": [
       "(array([  4.,   6.,   7.,   4.,  10.,   8.,  16.,  17.,  31.,  38.,  30.,\n",
       "         31.,  50.,  61.,  94., 111., 118.,  86., 150., 151., 159., 163.,\n",
       "        140., 168., 219., 175., 199., 161., 169., 180., 160., 222., 133.,\n",
       "        194., 193., 176., 174., 201., 182., 159., 128.,  84.,  56.,  47.,\n",
       "         35.,  25.,  16.,   2.,   0.,   6.]),\n",
       " array([-7.22222222e+00, -6.66666667e+00, -6.11111111e+00, -5.55555556e+00,\n",
       "        -5.00000000e+00, -4.44444444e+00, -3.88888889e+00, -3.33333333e+00,\n",
       "        -2.77777778e+00, -2.22222222e+00, -1.66666667e+00, -1.11111111e+00,\n",
       "        -5.55555556e-01, -8.88178420e-16,  5.55555556e-01,  1.11111111e+00,\n",
       "         1.66666667e+00,  2.22222222e+00,  2.77777778e+00,  3.33333333e+00,\n",
       "         3.88888889e+00,  4.44444444e+00,  5.00000000e+00,  5.55555556e+00,\n",
       "         6.11111111e+00,  6.66666667e+00,  7.22222222e+00,  7.77777778e+00,\n",
       "         8.33333333e+00,  8.88888889e+00,  9.44444444e+00,  1.00000000e+01,\n",
       "         1.05555556e+01,  1.11111111e+01,  1.16666667e+01,  1.22222222e+01,\n",
       "         1.27777778e+01,  1.33333333e+01,  1.38888889e+01,  1.44444444e+01,\n",
       "         1.50000000e+01,  1.55555556e+01,  1.61111111e+01,  1.66666667e+01,\n",
       "         1.72222222e+01,  1.77777778e+01,  1.83333333e+01,  1.88888889e+01,\n",
       "         1.94444444e+01,  2.00000000e+01,  2.05555556e+01]),\n",
       " <a list of 50 Patch objects>)"
      ]
     },
     "execution_count": 36,
     "metadata": {},
     "output_type": "execute_result"
    },
    {
     "data": {
      "image/png": "[encoded data removed]",
      "text/plain": [
       "<Figure size 432x288 with 1 Axes>"
      ]
     },
     "metadata": {
      "needs_background": "light"
     },
     "output_type": "display_data"
    }
   ],
   "source": [
    "plt.hist(y_min_cel.reshape(-1,1),bins=50)"
   ]
  },
  {
   "cell_type": "code",
   "execution_count": null,
   "metadata": {},
   "outputs": [],
   "source": []
  }
 ],
 "metadata": {
  "kernelspec": {
   "display_name": "Python 3",
   "language": "python",
   "name": "python3"
  },
  "language_info": {
   "codemirror_mode": {
    "name": "ipython",
    "version": 3
   },
   "file_extension": ".py",
   "mimetype": "text/x-python",
   "name": "python",
   "nbconvert_exporter": "python",
   "pygments_lexer": "ipython3",
   "version": "3.7.6"
  }
 },
 "nbformat": 4,
 "nbformat_minor": 4
}

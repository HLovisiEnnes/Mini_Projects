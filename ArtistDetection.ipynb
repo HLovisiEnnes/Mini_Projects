{
 "cells": [
  {
   "cell_type": "markdown",
   "metadata": {},
   "source": [
    "This notebook creates models to classify artists based on their lyrics. Here, we will be comparing Legião Urbana vs Charlie Brown Junior and Legião Urbana vs Engenheiros do Havaí, some of the best known Brazilian rockbands for their good lyrics. Our goal is not model accuracy, but 1.probe linear separability; 2. understand most important features."
   ]
  },
  {
   "cell_type": "code",
   "execution_count": 1,
   "metadata": {},
   "outputs": [],
   "source": [
    "import requests\n",
    "from bs4 import BeautifulSoup\n",
    "import pandas as pd\n",
    "import os\n",
    "from sklearn.datasets import load_files\n",
    "import shutil\n",
    "from sklearn.feature_extraction.text import TfidfVectorizer\n",
    "from sklearn.model_selection import cross_val_score\n",
    "from sklearn.linear_model import LogisticRegression\n",
    "from sklearn.model_selection import GridSearchCV\n",
    "from sklearn.linear_model import Perceptron\n",
    "from sklearn.pipeline import make_pipeline\n",
    "import mglearn\n",
    "import numpy as np\n",
    "from sklearn.ensemble import RandomForestClassifier\n",
    "import matplotlib.pyplot as plt"
   ]
  },
  {
   "cell_type": "markdown",
   "metadata": {},
   "source": [
    "Makes folders for storing the txt files to be generated for every artist"
   ]
  },
  {
   "cell_type": "code",
   "execution_count": 2,
   "metadata": {},
   "outputs": [],
   "source": [
    "if os.path.isdir('artists') == False:\n",
    "    os.mkdir('artists') \n",
    "    \n",
    "    \n",
    "if os.path.isdir('artists/legiao_urbana_cbrj') == False:\n",
    "    os.mkdir('artists/legiao_urbana_cbrj') \n",
    "    \n",
    "if os.path.isdir('artists/legiao_urbana_cbrj/legiao_urbana') == False:\n",
    "    os.mkdir('artists/legiao_urbana_cbrj/legiao_urbana') \n",
    "    \n",
    "if os.path.isdir('artists/legiao_urbana_cbrj/cbrj') == False:\n",
    "    os.mkdir('artists/legiao_urbana_cbrj/cbrj') \n",
    "    \n",
    "    \n",
    "if os.path.isdir('artists/legiao_urbana_engenheiros') == False:\n",
    "    os.mkdir('artists/legiao_urbana_engenheiros') \n",
    "    \n",
    "if os.path.isdir('artists/legiao_urbana_engenheiros/legiao_urbana') == False:\n",
    "    os.mkdir('artists/legiao_urbana_engenheiros/legiao_urbana') \n",
    "    \n",
    "if os.path.isdir('artists/legiao_urbana_engenheiros/engenheiros') == False:\n",
    "    os.mkdir('artists/legiao_urbana_engenheiros/engenheiros') "
   ]
  },
  {
   "cell_type": "markdown",
   "metadata": {},
   "source": [
    "# Legião Urbana Most Played"
   ]
  },
  {
   "cell_type": "markdown",
   "metadata": {},
   "source": [
    "Datascraping for retrieving the lyrics from online lyrics repository, in order of most played. We will be using only 70 most played song by artist, mostly avoiding covers then."
   ]
  },
  {
   "cell_type": "code",
   "execution_count": 3,
   "metadata": {},
   "outputs": [],
   "source": [
    "legiao_urbana_most_palyed = requests.get(\"https://www.letras.mus.br/legiao-urbana/mais-tocadas.html\") \n",
    "#site with links leading to all songs by the band"
   ]
  },
  {
   "cell_type": "code",
   "execution_count": 4,
   "metadata": {},
   "outputs": [],
   "source": [
    "content = legiao_urbana_most_palyed.content"
   ]
  },
  {
   "cell_type": "code",
   "execution_count": 5,
   "metadata": {},
   "outputs": [],
   "source": [
    "soup_all_songs =  BeautifulSoup(content)\n",
    "all_songs = soup_all_songs.find_all(\"a\", \"song-name\") #all songs by the band with links\n",
    "most_played = all_songs[:70]"
   ]
  },
  {
   "cell_type": "code",
   "execution_count": 6,
   "metadata": {},
   "outputs": [],
   "source": [
    "links = []\n",
    "for song in range(len(most_played)):\n",
    "    links.append((most_played[song].text, \"https://www.letras.mus.br\"+most_played[song].get(\"href\")))"
   ]
  },
  {
   "cell_type": "code",
   "execution_count": 7,
   "metadata": {},
   "outputs": [],
   "source": [
    "list_of_lyrics = []\n",
    "\n",
    "for song in range(len(links)):\n",
    "    link = links[song][1] #take the link of the song\n",
    "    request = requests.get(link) #request it\n",
    "    c = request.content\n",
    "    \n",
    "    soup = BeautifulSoup(c)\n",
    "    samples = soup.find_all(\"p\") #isolate the part with actual lyrics\n",
    "    \n",
    "    lyrics = links[song][0] #take the title of the song and add it to the lyrics\n",
    "    \n",
    "    for part in range(len(samples)-3): #do not consider the last 3 parts of the lyrics, as they are website specific such as\n",
    "                                        #\"follow this artist\", etc\n",
    "        lyrics += \"\\n\\n\"\n",
    "        lyrics += \"\\n\".join(samples[part].strings)\n",
    "    \n",
    "    list_of_lyrics.append([links[song][0], lyrics]) #make the list of titles and lyrics"
   ]
  },
  {
   "cell_type": "markdown",
   "metadata": {},
   "source": [
    "Example of the most played song of the artist"
   ]
  },
  {
   "cell_type": "code",
   "execution_count": 8,
   "metadata": {},
   "outputs": [
    {
     "name": "stdout",
     "output_type": "stream",
     "text": [
      "Tempo Perdido\n",
      "\n",
      "Todos os dias quando acordo\n",
      "Não tenho mais o tempo que passou\n",
      "Mas tenho muito tempo\n",
      "Temos todo o tempo do mundo\n",
      "\n",
      "Todos os dias antes de dormir\n",
      "Lembro e esqueço como foi o dia\n",
      "Sempre em frente\n",
      "Não temos tempo a perder\n",
      "\n",
      "Nosso suor sagrado\n",
      "É bem mais belo que esse sangue amargo\n",
      "E tão sério\n",
      "\n",
      "E selvagem\n",
      "Selvagem\n",
      "Selvagem\n",
      "\n",
      "Veja o sol dessa manhã tão cinza\n",
      "A tempestade que chega é da cor dos teus olhos castanhos\n",
      "\n",
      "Então me abraça forte\n",
      "Me diz mais uma vez que já estamos\n",
      "Distantes de tudo\n",
      "\n",
      "Temos nosso próprio tempo\n",
      "Temos nosso próprio tempo\n",
      "Temos nosso próprio tempo\n",
      "\n",
      "Não tenho medo do escuro\n",
      "Mas deixe as luzes\n",
      "Acesas agora\n",
      "\n",
      "O que foi escondido\n",
      "É o que se escondeu\n",
      "E o que foi prometido\n",
      "Ninguém prometeu\n",
      "Nem foi tempo perdido\n",
      "\n",
      "Somos tão jovens\n",
      "Tão jovens\n",
      "Tão jovens\n"
     ]
    }
   ],
   "source": [
    "print(list_of_lyrics[0][1])"
   ]
  },
  {
   "cell_type": "markdown",
   "metadata": {},
   "source": [
    "Save the lyrics in folder by artist to allow for using sklearn.datasets.load_files"
   ]
  },
  {
   "cell_type": "code",
   "execution_count": 9,
   "metadata": {},
   "outputs": [],
   "source": [
    "for song in  list_of_lyrics:   \n",
    "    f = open('artists/legiao_urbana_cbrj/legiao_urbana/'+song[0]+'.txt', \"w\",  encoding='utf-8') # the w means WRITING\n",
    "    g = open('artists/legiao_urbana_engenheiros/legiao_urbana/'+song[0]+'.txt', \"w\", encoding='utf-8')\n",
    "    #now we gotta write something\n",
    "\n",
    "    f.write(song[1]) \n",
    "    g.write(song[1])\n",
    "    f.close()\n",
    "    g.close()"
   ]
  },
  {
   "cell_type": "markdown",
   "metadata": {},
   "source": [
    "# Charlie Brown Junior Most Played"
   ]
  },
  {
   "cell_type": "code",
   "execution_count": 10,
   "metadata": {},
   "outputs": [],
   "source": [
    "cbjr_most_palyed = requests.get(\"https://www.letras.mus.br/charlie-brown-jr/mais-tocadas.html\") \n",
    "#site with links leading to all songs by the band"
   ]
  },
  {
   "cell_type": "code",
   "execution_count": 11,
   "metadata": {},
   "outputs": [],
   "source": [
    "content = cbjr_most_palyed.content"
   ]
  },
  {
   "cell_type": "code",
   "execution_count": 12,
   "metadata": {},
   "outputs": [],
   "source": [
    "soup_all_songs =  BeautifulSoup(content)\n",
    "all_songs = soup_all_songs.find_all(\"a\", \"song-name\") #all songs by the band with links\n",
    "most_played = all_songs[:70]"
   ]
  },
  {
   "cell_type": "code",
   "execution_count": 13,
   "metadata": {},
   "outputs": [],
   "source": [
    "links = []\n",
    "for song in range(len(most_played)):\n",
    "    links.append((most_played[song].text, \"https://www.letras.mus.br\"+most_played[song].get(\"href\")))"
   ]
  },
  {
   "cell_type": "code",
   "execution_count": 14,
   "metadata": {},
   "outputs": [],
   "source": [
    "list_of_lyrics = []\n",
    "\n",
    "for song in range(len(links)):\n",
    "    link = links[song][1] #take the link of the song\n",
    "    request = requests.get(link) #request it\n",
    "    c = request.content\n",
    "    \n",
    "    soup = BeautifulSoup(c)\n",
    "    samples = soup.find_all(\"p\") #isolate the part with actual lyrics\n",
    "    \n",
    "    lyrics = links[song][0] #take the title of the song and add it to the lyrics\n",
    "    \n",
    "    for part in range(len(samples)-3): #do not consider the last 3 parts of the lyrics, as they are website specific such as\n",
    "                                        #\"follow this artist\", etc\n",
    "        lyrics += \"\\n\\n\"\n",
    "        lyrics += \"\\n\".join(samples[part].strings)\n",
    "    \n",
    "    list_of_lyrics.append([links[song][0], lyrics]) #make the list of titles and lyrics"
   ]
  },
  {
   "cell_type": "code",
   "execution_count": 15,
   "metadata": {},
   "outputs": [
    {
     "name": "stdout",
     "output_type": "stream",
     "text": [
      "Céu Azul\n",
      "\n",
      "Tão natural quanto a luz do dia\n",
      "Mas que preguiça boa\n",
      "Me deixa aqui à toa\n",
      "Hoje ninguém vai estragar meu dia\n",
      "Só vou gastar energia pra beijar sua boca\n",
      "\n",
      "Fica comigo então\n",
      "Não me abandona, não\n",
      "Alguém te perguntou como é que foi seu dia?\n",
      "Uma palavra amiga, uma notícia boa\n",
      "Isso faz falta no dia a dia\n",
      "A gente nunca sabe quem são essas pessoas\n",
      "\n",
      "Eu só queria te lembrar\n",
      "Que aquele tempo eu não podia fazer mais por nós\n",
      "Eu estava errado e você não tem que me perdoar\n",
      "\n",
      "Mas também quero te mostrar\n",
      "Que existe um lado bom nessa história\n",
      "Tudo que ainda temos a compartilhar\n",
      "\n",
      "E viver\n",
      "E cantar\n",
      "Não importa qual seja o dia\n",
      "Vamos viver\n",
      "Vadiar\n",
      "O que importa é nossa alegria\n",
      "\n",
      "Vamos viver\n",
      "E cantar\n",
      "Não importa qual seja o dia\n",
      "Vamos viver\n",
      "Vadiar\n",
      "O que importa é nossa alegria\n",
      "\n",
      "Tão natural quanto a luz do dia\n",
      "Mas que preguiça boa\n",
      "Me deixa aqui à toa\n",
      "Hoje ninguém vai estragar meu dia\n",
      "Só vou gastar energia pra beijar sua boca\n",
      "\n",
      "Eu só queria te lembrar\n",
      "Que aquele tempo eu não podia fazer mais por nós\n",
      "Eu estava errado e você não tem que me perdoar\n",
      "\n",
      "Mas também quero te mostrar\n",
      "Que existe um lado bom nessa história\n",
      "Tudo que ainda temos a compartilhar\n",
      "\n",
      "E viver\n",
      "E cantar\n",
      "Não importa qual seja o dia\n",
      "Vamos viver\n",
      "Vadiar\n",
      "O que importa é nossa alegria\n",
      "\n",
      "Vamos viver\n",
      "E cantar\n",
      "Não importa qual seja o dia\n",
      "Vamos viver\n",
      "Vadiar\n",
      "O que importa é nossa alegria\n",
      "\n",
      "Tão natural quanto a luz do dia\n"
     ]
    }
   ],
   "source": [
    "print(list_of_lyrics[0][1])"
   ]
  },
  {
   "cell_type": "code",
   "execution_count": 16,
   "metadata": {},
   "outputs": [],
   "source": [
    "for song in  list_of_lyrics:   \n",
    "    f = open('artists/legiao_urbana_cbrj/cbrj/'+song[0]+'.txt', \"w\", encoding='utf-8')\n",
    "\n",
    "    f.write(song[1]) \n",
    "    f.close()"
   ]
  },
  {
   "cell_type": "markdown",
   "metadata": {},
   "source": [
    "# Engenheiros do Havaí"
   ]
  },
  {
   "cell_type": "code",
   "execution_count": 17,
   "metadata": {},
   "outputs": [],
   "source": [
    "engenheiros_most_palyed = requests.get(\"https://www.letras.mus.br/engenheiros-do-hawaii/mais-tocadas.html\") \n",
    "#site with links leading to all songs by the band"
   ]
  },
  {
   "cell_type": "code",
   "execution_count": 18,
   "metadata": {},
   "outputs": [],
   "source": [
    "content = engenheiros_most_palyed.content"
   ]
  },
  {
   "cell_type": "code",
   "execution_count": 19,
   "metadata": {},
   "outputs": [],
   "source": [
    "soup_all_songs =  BeautifulSoup(content)\n",
    "all_songs = soup_all_songs.find_all(\"a\", \"song-name\") #all songs by the band with links\n",
    "most_played = all_songs[:70]"
   ]
  },
  {
   "cell_type": "code",
   "execution_count": 20,
   "metadata": {},
   "outputs": [],
   "source": [
    "links = []\n",
    "for song in range(len(most_played)):\n",
    "    links.append((most_played[song].text.replace('/',' '), \"https://www.letras.mus.br\"+most_played[song].get(\"href\")))\n",
    "    #replaces / by a space as some lyrics names have /, which spoils os"
   ]
  },
  {
   "cell_type": "code",
   "execution_count": 21,
   "metadata": {},
   "outputs": [],
   "source": [
    "list_of_lyrics = []\n",
    "\n",
    "for song in range(len(links)):\n",
    "    link = links[song][1] #take the link of the song\n",
    "    request = requests.get(link) #request it\n",
    "    c = request.content\n",
    "    \n",
    "    soup = BeautifulSoup(c)\n",
    "    samples = soup.find_all(\"p\") #isolate the part with actual lyrics\n",
    "    \n",
    "    lyrics = links[song][0] #take the title of the song and add it to the lyrics\n",
    "    \n",
    "    for part in range(len(samples)-3): #do not consider the last 3 parts of the lyrics, as they are website specific such as\n",
    "                                        #\"follow this artist\", etc\n",
    "        lyrics += \"\\n\\n\"\n",
    "        lyrics += \"\\n\".join(samples[part].strings)\n",
    "    \n",
    "    list_of_lyrics.append([links[song][0], lyrics]) #make the list of titles and lyrics"
   ]
  },
  {
   "cell_type": "code",
   "execution_count": 22,
   "metadata": {},
   "outputs": [
    {
     "name": "stdout",
     "output_type": "stream",
     "text": [
      "Pra Ser Sincero\n",
      "\n",
      "Pra ser sincero\n",
      "Não espero de você\n",
      "Mais do que educação\n",
      "Beijo sem paixão\n",
      "Crime sem castigo\n",
      "Aperto de mãos\n",
      "Apenas bons amigos\n",
      "\n",
      "Pra ser sincero\n",
      "Não espero que você\n",
      "Minta\n",
      "Não se sinta capaz\n",
      "De enganar\n",
      "Quem não engana\n",
      "A si mesmo\n",
      "\n",
      "Nós dois temos\n",
      "Os mesmos defeitos\n",
      "Sabemos tudo\n",
      "A nosso respeito\n",
      "Somos suspeitos\n",
      "De um crime perfeito\n",
      "Mas crimes perfeitos\n",
      "Não deixam suspeitos\n",
      "\n",
      "Pra ser sincero\n",
      "Não espero de você\n",
      "Mais do que educação\n",
      "Beijo sem paixão\n",
      "Crime sem castigo\n",
      "Aperto de mãos\n",
      "Apenas bons amigos\n",
      "\n",
      "Pra ser sincero\n",
      "Não espero que você\n",
      "Me perdoe\n",
      "Por ter perdido a calma\n",
      "Por ter vendido a alma\n",
      "Ao diabo\n",
      "\n",
      "Um dia desses\n",
      "Num desses\n",
      "Encontros casuais\n",
      "Talvez a gente\n",
      "Se encontre\n",
      "Talvez a gente\n",
      "Encontre explicação\n",
      "\n",
      "Um dia desses\n",
      "Num desses\n",
      "Encontros casuais\n",
      "Talvez eu diga\n",
      "Minha amiga\n",
      "Pra ser sincero\n",
      "Prazer em vê-la\n",
      "Até mais\n",
      "\n",
      "Nós dois temos\n",
      "Os mesmos defeitos\n",
      "Sabemos tudo\n",
      "A nosso respeito\n",
      "Somos suspeitos\n",
      "De um crime perfeito\n",
      "Mas crimes perfeitos\n",
      "Não deixam suspeitos\n"
     ]
    }
   ],
   "source": [
    "print(list_of_lyrics[0][1])"
   ]
  },
  {
   "cell_type": "code",
   "execution_count": 23,
   "metadata": {},
   "outputs": [],
   "source": [
    "for song in  list_of_lyrics:   \n",
    "    f = open('artists/legiao_urbana_engenheiros/engenheiros/'+song[0]+'.txt', \"w\", encoding='utf-8')\n",
    "\n",
    "    f.write(song[1]) \n",
    "    f.close()"
   ]
  },
  {
   "cell_type": "markdown",
   "metadata": {},
   "source": [
    "# Logistic Regression Legião CBJr"
   ]
  },
  {
   "cell_type": "markdown",
   "metadata": {},
   "source": [
    "Let us start with a logistic regression, for simplicity"
   ]
  },
  {
   "cell_type": "code",
   "execution_count": 24,
   "metadata": {},
   "outputs": [
    {
     "name": "stdout",
     "output_type": "stream",
     "text": [
      "type of text_train: <class 'list'>\n",
      "length of text_train: 139\n",
      "text_train[1]:\n",
      "Eduardo e Mônica\r\n",
      "\r\n",
      "Quem um dia irá dizer\r\n",
      "Que existe razão\r\n",
      "Nas coisas feitas pelo coração?\r\n",
      "E quem irá dizer\r\n",
      "Que não existe razão?\r\n",
      "\r\n",
      "Eduardo abriu os olhos, mas não quis se levantar\r\n",
      "Ficou deitado e viu que horas eram\r\n",
      "Enquanto Mônica tomava um conhaque\r\n",
      "No outro canto da cidade, como eles disseram\r\n",
      "\r\n",
      "Eduardo e Mônica um dia se encontraram sem querer\r\n",
      "E conversaram muito mesmo pra tentar se conhecer\r\n",
      "Um carinha do cursinho do Eduardo que disse\r\n",
      "Tem uma festa legal, e a gente quer se divertir\r\n",
      "\r\n",
      "Festa estranha, com gente esquisita\r\n",
      "Eu não tô legal, não aguento mais birita\r\n",
      "E a Mônica riu, e quis saber um pouco mais\r\n",
      "Sobre o boyzinho que tentava impressionar\r\n",
      "E o Eduardo, meio tonto, só pensava em ir pra casa\r\n",
      "É quase duas, eu vou me ferrar\r\n",
      "\r\n",
      "Eduardo e Mônica trocaram telefone\r\n",
      "Depois telefonaram e decidiram se encontrar\r\n",
      "O Eduardo sugeriu uma lanchonete\r\n",
      "Mas a Mônica queria ver o filme do Godard\r\n",
      "\r\n",
      "Se encontraram, então, no Parque da Cidade\r\n",
      "A Mônica de moto e o Eduardo de camelo\r\n",
      "O Eduardo achou estranho e melhor não comentar\r\n",
      "Mas a menina tinha tinta no cabelo\r\n",
      "\r\n",
      "Eduardo e Mônica eram nada parecidos\r\n",
      "Ela era de Leão e ele tinha dezesseis\r\n",
      "Ela fazia Medicina e falava alemão\r\n",
      "E ele ainda nas aulinhas de inglês\r\n",
      "\r\n",
      "Ela gostava do Bandeira e do Bauhaus\r\n",
      "Van Gogh e dos Mutantes, de Caetano e de Rimbaud\r\n",
      "E o Eduardo gostava de novela\r\n",
      "E jogava futebol de botão com seu avô\r\n",
      "\r\n",
      "Ela falava coisas sobre o Planalto Central\r\n",
      "Também magia e meditação\r\n",
      "E o Eduardo ainda tava no esquema\r\n",
      "Escola, cinema, clube, televisão\r\n",
      "\r\n",
      "E mesmo com tudo diferente, veio mesmo, de repente\r\n",
      "Uma vontade de se ver\r\n",
      "E os dois se encontravam todo dia\r\n",
      "E a vontade crescia, como tinha de ser\r\n",
      "\r\n",
      "Eduardo e Mônica fizeram natação, fotografia\r\n",
      "Teatro, artesanato, e foram viajar\r\n",
      "A Mônica explicava pro Eduardo\r\n",
      "Coisas sobre o céu, a terra, a água e o ar\r\n",
      "\r\n",
      "Ele aprendeu a beber, deixou o cabelo crescer\r\n",
      "E decidiu trabalhar (não!)\r\n",
      "E ela se formou no mesmo mês\r\n",
      "Que ele passou no vestibular\r\n",
      "\r\n",
      "E os dois comemoraram juntos\r\n",
      "E também brigaram juntos muitas vezes depois\r\n",
      "E todo mundo diz que ele completa ela\r\n",
      "E vice-versa, que nem feijão com arroz\r\n",
      "\r\n",
      "Construíram uma casa há uns dois anos atrás\r\n",
      "Mais ou menos quando os gêmeos vieram\r\n",
      "Batalharam grana, seguraram legal\r\n",
      "A barra mais pesada que tiveram\r\n",
      "\r\n",
      "Eduardo e Mônica voltaram pra Brasília\r\n",
      "E a nossa amizade dá saudade no verão\r\n",
      "Só que nessas férias, não vão viajar\r\n",
      "Porque o filhinho do Eduardo tá de recuperação\r\n",
      "\r\n",
      "E quem um dia irá dizer\r\n",
      "Que existe razão\r\n",
      "Nas coisas feitas pelo coração?\r\n",
      "E quem irá dizer\r\n",
      "Que não existe razão?\n"
     ]
    }
   ],
   "source": [
    "songs = load_files(\"artists/legiao_urbana_cbrj\")\n",
    "data, label = songs.data, songs.target\n",
    "print(\"type of text_train: {}\".format(type(data)))\n",
    "print(\"length of text_train: {}\".format(len(data)))\n",
    "print(\"text_train[1]:\\n{}\".format(data[1].decode(\"utf-8\")))"
   ]
  },
  {
   "cell_type": "code",
   "execution_count": 25,
   "metadata": {},
   "outputs": [
    {
     "name": "stdout",
     "output_type": "stream",
     "text": [
      "Best cross-validation score: 0.86\n"
     ]
    }
   ],
   "source": [
    "pipe = make_pipeline(TfidfVectorizer(min_df=5, norm=None),\n",
    "LogisticRegression())\n",
    "param_grid = {'logisticregression__C': [0.001, 0.01, 0.1, 1, 10]}\n",
    "grid = GridSearchCV(pipe, param_grid, cv=5)\n",
    "grid.fit(data, label)\n",
    "print(\"Best cross-validation score: {:.2f}\".format(grid.best_score_))"
   ]
  },
  {
   "cell_type": "markdown",
   "metadata": {},
   "source": [
    "Score not so good, but we can easily visualize most important features"
   ]
  },
  {
   "cell_type": "code",
   "execution_count": 26,
   "metadata": {},
   "outputs": [],
   "source": [
    "vectorizer = grid.best_estimator_.named_steps[\"tfidfvectorizer\"]\n",
    "# transform the training dataset\n",
    "X_train = vectorizer.transform(data)\n",
    "# find maximum value for each of the features over the dataset\n",
    "max_value = X_train.max(axis=0).toarray().ravel()\n",
    "sorted_by_tfidf = max_value.argsort()\n",
    "# get feature names\n",
    "feature_names = np.array(vectorizer.get_feature_names())"
   ]
  },
  {
   "cell_type": "code",
   "execution_count": 27,
   "metadata": {},
   "outputs": [
    {
     "data": {
      "image/png": "[encoded data removed]",
      "text/plain": [
       "<Figure size 1080x360 with 1 Axes>"
      ]
     },
     "metadata": {
      "needs_background": "light"
     },
     "output_type": "display_data"
    }
   ],
   "source": [
    "mglearn.tools.visualize_coefficients(\n",
    "grid.best_estimator_.named_steps[\"logisticregression\"].coef_,\n",
    "feature_names, n_top_features=40)"
   ]
  },
  {
   "cell_type": "markdown",
   "metadata": {},
   "source": [
    "# Perceptron Legião CBJr"
   ]
  },
  {
   "cell_type": "markdown",
   "metadata": {},
   "source": [
    "A perceptron, however, allows for perfect accuracy, indicating that, indeed, the dataset is linear separable"
   ]
  },
  {
   "cell_type": "code",
   "execution_count": 28,
   "metadata": {},
   "outputs": [
    {
     "data": {
      "text/plain": [
       "1.0"
      ]
     },
     "execution_count": 28,
     "metadata": {},
     "output_type": "execute_result"
    }
   ],
   "source": [
    "pipe = make_pipeline(TfidfVectorizer(min_df=5, norm=None),\n",
    "Perceptron(tol=1e-3, random_state=0))\n",
    "pipe.fit(data, label)\n",
    "pipe.score(data, label)"
   ]
  },
  {
   "cell_type": "markdown",
   "metadata": {},
   "source": [
    "# Random Forest Legião CBJr"
   ]
  },
  {
   "cell_type": "markdown",
   "metadata": {},
   "source": [
    "We apply a random forest, which increases accuracy, but allows for good importance visualization. However, we loose linearity of the model"
   ]
  },
  {
   "cell_type": "code",
   "execution_count": 29,
   "metadata": {},
   "outputs": [
    {
     "data": {
      "text/plain": [
       "1.0"
      ]
     },
     "execution_count": 29,
     "metadata": {},
     "output_type": "execute_result"
    }
   ],
   "source": [
    "pipe = make_pipeline(TfidfVectorizer(min_df=5, norm=None),\n",
    "RandomForestClassifier(random_state=0))\n",
    "pipe.fit(data, label)\n",
    "pipe.score(data, label)"
   ]
  },
  {
   "cell_type": "code",
   "execution_count": 30,
   "metadata": {},
   "outputs": [
    {
     "data": {
      "text/plain": [
       "<AxesSubplot:title={'center':'Feature Importance'}>"
      ]
     },
     "execution_count": 30,
     "metadata": {},
     "output_type": "execute_result"
    },
    {
     "data": {
      "image/png": "[encoded data removed]",
      "text/plain": [
       "<Figure size 432x288 with 1 Axes>"
      ]
     },
     "metadata": {
      "needs_background": "light"
     },
     "output_type": "display_data"
    }
   ],
   "source": [
    "importances = pipe[1].feature_importances_\n",
    "std = np.std([\n",
    "    tree.feature_importances_ for tree in pipe[1].estimators_], axis=0)\n",
    "\n",
    "forest_importances = pd.Series(importances, index=feature_names)\n",
    "biggest_features = forest_importances.nlargest(40)\n",
    "biggest_features.plot(x='Team', kind='bar', stacked=True,\n",
    "        title='Feature Importance')"
   ]
  },
  {
   "cell_type": "markdown",
   "metadata": {},
   "source": [
    "# Logistic Regression Legião Engenheiros"
   ]
  },
  {
   "cell_type": "code",
   "execution_count": 31,
   "metadata": {},
   "outputs": [
    {
     "name": "stdout",
     "output_type": "stream",
     "text": [
      "type of text_train: <class 'list'>\n",
      "length of text_train: 139\n",
      "text_train[1]:\n",
      "Eduardo e Mônica\r\n",
      "\r\n",
      "Quem um dia irá dizer\r\n",
      "Que existe razão\r\n",
      "Nas coisas feitas pelo coração?\r\n",
      "E quem irá dizer\r\n",
      "Que não existe razão?\r\n",
      "\r\n",
      "Eduardo abriu os olhos, mas não quis se levantar\r\n",
      "Ficou deitado e viu que horas eram\r\n",
      "Enquanto Mônica tomava um conhaque\r\n",
      "No outro canto da cidade, como eles disseram\r\n",
      "\r\n",
      "Eduardo e Mônica um dia se encontraram sem querer\r\n",
      "E conversaram muito mesmo pra tentar se conhecer\r\n",
      "Um carinha do cursinho do Eduardo que disse\r\n",
      "Tem uma festa legal, e a gente quer se divertir\r\n",
      "\r\n",
      "Festa estranha, com gente esquisita\r\n",
      "Eu não tô legal, não aguento mais birita\r\n",
      "E a Mônica riu, e quis saber um pouco mais\r\n",
      "Sobre o boyzinho que tentava impressionar\r\n",
      "E o Eduardo, meio tonto, só pensava em ir pra casa\r\n",
      "É quase duas, eu vou me ferrar\r\n",
      "\r\n",
      "Eduardo e Mônica trocaram telefone\r\n",
      "Depois telefonaram e decidiram se encontrar\r\n",
      "O Eduardo sugeriu uma lanchonete\r\n",
      "Mas a Mônica queria ver o filme do Godard\r\n",
      "\r\n",
      "Se encontraram, então, no Parque da Cidade\r\n",
      "A Mônica de moto e o Eduardo de camelo\r\n",
      "O Eduardo achou estranho e melhor não comentar\r\n",
      "Mas a menina tinha tinta no cabelo\r\n",
      "\r\n",
      "Eduardo e Mônica eram nada parecidos\r\n",
      "Ela era de Leão e ele tinha dezesseis\r\n",
      "Ela fazia Medicina e falava alemão\r\n",
      "E ele ainda nas aulinhas de inglês\r\n",
      "\r\n",
      "Ela gostava do Bandeira e do Bauhaus\r\n",
      "Van Gogh e dos Mutantes, de Caetano e de Rimbaud\r\n",
      "E o Eduardo gostava de novela\r\n",
      "E jogava futebol de botão com seu avô\r\n",
      "\r\n",
      "Ela falava coisas sobre o Planalto Central\r\n",
      "Também magia e meditação\r\n",
      "E o Eduardo ainda tava no esquema\r\n",
      "Escola, cinema, clube, televisão\r\n",
      "\r\n",
      "E mesmo com tudo diferente, veio mesmo, de repente\r\n",
      "Uma vontade de se ver\r\n",
      "E os dois se encontravam todo dia\r\n",
      "E a vontade crescia, como tinha de ser\r\n",
      "\r\n",
      "Eduardo e Mônica fizeram natação, fotografia\r\n",
      "Teatro, artesanato, e foram viajar\r\n",
      "A Mônica explicava pro Eduardo\r\n",
      "Coisas sobre o céu, a terra, a água e o ar\r\n",
      "\r\n",
      "Ele aprendeu a beber, deixou o cabelo crescer\r\n",
      "E decidiu trabalhar (não!)\r\n",
      "E ela se formou no mesmo mês\r\n",
      "Que ele passou no vestibular\r\n",
      "\r\n",
      "E os dois comemoraram juntos\r\n",
      "E também brigaram juntos muitas vezes depois\r\n",
      "E todo mundo diz que ele completa ela\r\n",
      "E vice-versa, que nem feijão com arroz\r\n",
      "\r\n",
      "Construíram uma casa há uns dois anos atrás\r\n",
      "Mais ou menos quando os gêmeos vieram\r\n",
      "Batalharam grana, seguraram legal\r\n",
      "A barra mais pesada que tiveram\r\n",
      "\r\n",
      "Eduardo e Mônica voltaram pra Brasília\r\n",
      "E a nossa amizade dá saudade no verão\r\n",
      "Só que nessas férias, não vão viajar\r\n",
      "Porque o filhinho do Eduardo tá de recuperação\r\n",
      "\r\n",
      "E quem um dia irá dizer\r\n",
      "Que existe razão\r\n",
      "Nas coisas feitas pelo coração?\r\n",
      "E quem irá dizer\r\n",
      "Que não existe razão?\n"
     ]
    }
   ],
   "source": [
    "songs = load_files(\"artists/legiao_urbana_engenheiros\")\n",
    "data, label = songs.data, songs.target\n",
    "print(\"type of text_train: {}\".format(type(data)))\n",
    "print(\"length of text_train: {}\".format(len(data)))\n",
    "print(\"text_train[1]:\\n{}\".format(data[1].decode(\"utf-8\")))"
   ]
  },
  {
   "cell_type": "code",
   "execution_count": 32,
   "metadata": {},
   "outputs": [
    {
     "name": "stdout",
     "output_type": "stream",
     "text": [
      "Best cross-validation score: 0.78\n"
     ]
    }
   ],
   "source": [
    "pipe = make_pipeline(TfidfVectorizer(min_df=5, norm=None),\n",
    "LogisticRegression())\n",
    "param_grid = {'logisticregression__C': [0.001, 0.01, 0.1, 1, 10]}\n",
    "grid = GridSearchCV(pipe, param_grid, cv=5)\n",
    "grid.fit(data, label)\n",
    "print(\"Best cross-validation score: {:.2f}\".format(grid.best_score_))"
   ]
  },
  {
   "cell_type": "code",
   "execution_count": 33,
   "metadata": {},
   "outputs": [],
   "source": [
    "vectorizer = grid.best_estimator_.named_steps[\"tfidfvectorizer\"]\n",
    "# transform the training dataset\n",
    "X_train = vectorizer.transform(data)\n",
    "# find maximum value for each of the features over the dataset\n",
    "max_value = X_train.max(axis=0).toarray().ravel()\n",
    "sorted_by_tfidf = max_value.argsort()\n",
    "# get feature names\n",
    "feature_names = np.array(vectorizer.get_feature_names())"
   ]
  },
  {
   "cell_type": "code",
   "execution_count": 34,
   "metadata": {},
   "outputs": [
    {
     "data": {
      "image/png": "[encoded data removed]",
      "text/plain": [
       "<Figure size 1080x360 with 1 Axes>"
      ]
     },
     "metadata": {
      "needs_background": "light"
     },
     "output_type": "display_data"
    }
   ],
   "source": [
    "mglearn.tools.visualize_coefficients(\n",
    "grid.best_estimator_.named_steps[\"logisticregression\"].coef_,\n",
    "feature_names, n_top_features=40)"
   ]
  },
  {
   "cell_type": "markdown",
   "metadata": {},
   "source": [
    "# Perceptron Legião Urbana Engenheiros"
   ]
  },
  {
   "cell_type": "code",
   "execution_count": 35,
   "metadata": {},
   "outputs": [
    {
     "data": {
      "text/plain": [
       "1.0"
      ]
     },
     "execution_count": 35,
     "metadata": {},
     "output_type": "execute_result"
    }
   ],
   "source": [
    "pipe = make_pipeline(TfidfVectorizer(min_df=5, norm=None),\n",
    "Perceptron(tol=1e-3, random_state=0))\n",
    "pipe.fit(data, label)\n",
    "pipe.score(data, label)"
   ]
  },
  {
   "cell_type": "markdown",
   "metadata": {},
   "source": [
    "# Random Forest Legião CBJr"
   ]
  },
  {
   "cell_type": "code",
   "execution_count": 36,
   "metadata": {},
   "outputs": [
    {
     "data": {
      "text/plain": [
       "1.0"
      ]
     },
     "execution_count": 36,
     "metadata": {},
     "output_type": "execute_result"
    }
   ],
   "source": [
    "pipe = make_pipeline(TfidfVectorizer(min_df=5, norm=None),\n",
    "RandomForestClassifier(random_state=0))\n",
    "pipe.fit(data, label)\n",
    "pipe.score(data, label)"
   ]
  },
  {
   "cell_type": "code",
   "execution_count": 37,
   "metadata": {},
   "outputs": [
    {
     "data": {
      "text/plain": [
       "<AxesSubplot:title={'center':'Feature Importance'}>"
      ]
     },
     "execution_count": 37,
     "metadata": {},
     "output_type": "execute_result"
    },
    {
     "data": {
      "image/png": "[encoded data removed]",
      "text/plain": [
       "<Figure size 432x288 with 1 Axes>"
      ]
     },
     "metadata": {
      "needs_background": "light"
     },
     "output_type": "display_data"
    }
   ],
   "source": [
    "importances = pipe[1].feature_importances_\n",
    "std = np.std([\n",
    "    tree.feature_importances_ for tree in pipe[1].estimators_], axis=0)\n",
    "\n",
    "forest_importances = pd.Series(importances, index=feature_names)\n",
    "biggest_features = forest_importances.nlargest(40)\n",
    "biggest_features.plot(x='Team', kind='bar', stacked=True,\n",
    "        title='Feature Importance')"
   ]
  },
  {
   "cell_type": "markdown",
   "metadata": {},
   "source": [
    "# Clear Folders"
   ]
  },
  {
   "cell_type": "code",
   "execution_count": 38,
   "metadata": {},
   "outputs": [],
   "source": [
    "shutil.rmtree('artists')"
   ]
  },
  {
   "cell_type": "code",
   "execution_count": null,
   "metadata": {},
   "outputs": [],
   "source": []
  }
 ],
 "metadata": {
  "kernelspec": {
   "display_name": "Python 3",
   "language": "python",
   "name": "python3"
  },
  "language_info": {
   "codemirror_mode": {
    "name": "ipython",
    "version": 3
   },
   "file_extension": ".py",
   "mimetype": "text/x-python",
   "name": "python",
   "nbconvert_exporter": "python",
   "pygments_lexer": "ipython3",
   "version": "3.8.5"
  }
 },
 "nbformat": 4,
 "nbformat_minor": 4
}
